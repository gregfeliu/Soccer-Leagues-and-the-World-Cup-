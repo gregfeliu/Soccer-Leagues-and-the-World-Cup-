{
 "cells": [
  {
   "cell_type": "markdown",
   "metadata": {},
   "source": [
    "The goal of this notebook is to gather, analyze and visualize the clubs that the majority of FIFA World Cup players play for. I will gather the data using Wikipedia (\"xxxx_FIFA_World_Cup_squads\") and use the wikipedia library to do so. I will gather multiple years of data so that we can determine **the strongest soccer clubs in the world**. This is important b/c it's not clear which leagues/clubs are the most dominant for a long period of time."
   ]
  },
  {
   "cell_type": "markdown",
   "metadata": {},
   "source": [
    "# Imports"
   ]
  },
  {
   "cell_type": "code",
   "execution_count": 212,
   "metadata": {
    "ExecuteTime": {
     "end_time": "2022-12-16T19:27:29.250771Z",
     "start_time": "2022-12-16T19:27:29.233632Z"
    }
   },
   "outputs": [],
   "source": [
    "import pandas as pd\n",
    "import numpy as np\n",
    "import wikipedia\n",
    "import wikipediaapi\n",
    "import wikitables\n",
    "from wikitables import import_tables\n",
    "import jenkspy"
   ]
  },
  {
   "cell_type": "markdown",
   "metadata": {},
   "source": [
    "## Functions"
   ]
  },
  {
   "cell_type": "code",
   "execution_count": 2,
   "metadata": {
    "ExecuteTime": {
     "end_time": "2022-12-16T15:48:06.439242Z",
     "start_time": "2022-12-16T15:48:06.432976Z"
    }
   },
   "outputs": [],
   "source": [
    "def fix_country_names(df):\n",
    "    new_list = []\n",
    "    for item in df['Country']:\n",
    "        if str(item) ==  'FRA 1974 France':\n",
    "            new_list.append('France')\n",
    "        elif str(item[0:2]).isupper():\n",
    "            new_list.append(item[4:])\n",
    "        else:\n",
    "            new_list.append(item)\n",
    "    return new_list\n",
    "def make_df_fields_numeric(df):\n",
    "    df['Players'] = df['Players'].astype(str, errors='ignore')\n",
    "    df['Players'] = pd.to_numeric(df['Players'], errors='coerce')\n",
    "    df['Outside national squad'] = df['Outside national squad'].astype(str, errors='ignore')\n",
    "    df['Outside national squad'] = pd.to_numeric(df['Outside national squad'], errors='coerce')\n",
    "    df['Lower tier players'] = df['Lower tier players'].astype(str, errors='ignore')\n",
    "    df['Lower tier players'] = pd.to_numeric(df['Lower tier players'], errors='coerce')\n",
    "    return df\n",
    "def make_cols_strings(df, columns=[]):\n",
    "    for item in columns:\n",
    "        df[item] = df[item].astype(str, errors='ignore')\n",
    "    return df"
   ]
  },
  {
   "cell_type": "markdown",
   "metadata": {},
   "source": [
    "## Data Import using wikitables"
   ]
  },
  {
   "cell_type": "code",
   "execution_count": 3,
   "metadata": {
    "ExecuteTime": {
     "end_time": "2022-12-16T15:48:06.462608Z",
     "start_time": "2022-12-16T15:48:06.449431Z"
    }
   },
   "outputs": [],
   "source": [
    "# importing a 2022 table seperately b/c it wasn't loaded with wikitables\n",
    "countries_df_2022 = pd.read_csv(\"./data/2022_FIFA_World_Cup_squads_33.csv\")"
   ]
  },
  {
   "cell_type": "code",
   "execution_count": 4,
   "metadata": {
    "ExecuteTime": {
     "end_time": "2022-12-16T15:48:11.664141Z",
     "start_time": "2022-12-16T15:48:06.493579Z"
    }
   },
   "outputs": [],
   "source": [
    "# there are summary tables at the bottom of each page\n",
    "## I'll just import all of those into a single table \n",
    "tables_2022 = import_tables('2022 FIFA World Cup squads')\n",
    "tables_2018 = import_tables('2018 FIFA World Cup squads')\n",
    "tables_2014 = import_tables('2014 FIFA World Cup squads')\n",
    "tables_2010 = import_tables('2010 FIFA World Cup squads')\n",
    "tables_2006 = import_tables('2006 FIFA World Cup squads') \n",
    "# the following 2 only have 1 table\n",
    "tables_2002 = import_tables('2002 FIFA World Cup squads')\n",
    "tables_1998 = import_tables('1998 FIFA World Cup squads')"
   ]
  },
  {
   "cell_type": "code",
   "execution_count": 5,
   "metadata": {
    "ExecuteTime": {
     "end_time": "2022-12-16T15:48:11.690256Z",
     "start_time": "2022-12-16T15:48:11.687203Z"
    }
   },
   "outputs": [],
   "source": [
    "all_tables = [tables_2022, tables_2018, tables_2014, tables_2010, tables_2006, tables_2002, tables_1998]"
   ]
  },
  {
   "cell_type": "markdown",
   "metadata": {},
   "source": [
    "# Performing Data Checks on the tables"
   ]
  },
  {
   "cell_type": "code",
   "execution_count": 6,
   "metadata": {
    "ExecuteTime": {
     "end_time": "2022-12-16T15:48:11.717721Z",
     "start_time": "2022-12-16T15:48:11.714561Z"
    }
   },
   "outputs": [
    {
     "name": "stdout",
     "output_type": "stream",
     "text": [
      "5\n",
      "4\n",
      "3\n",
      "4\n",
      "2\n",
      "1\n",
      "1\n"
     ]
    }
   ],
   "source": [
    "# how many tables are in each page's list of tables?\n",
    "for table in all_tables:\n",
    "    print(f\"{len(table)}\")"
   ]
  },
  {
   "cell_type": "code",
   "execution_count": 7,
   "metadata": {
    "ExecuteTime": {
     "end_time": "2022-12-16T15:48:11.745288Z",
     "start_time": "2022-12-16T15:48:11.740664Z"
    }
   },
   "outputs": [
    {
     "name": "stdout",
     "output_type": "stream",
     "text": [
      "<WikiTable '2022 FIFA World Cup squads[0]'>\n",
      "dict_keys(['Players', 'Clubs'])\n",
      "\n",
      "<WikiTable '2022 FIFA World Cup squads[1]'>\n",
      "dict_keys(['Players', 'Clubs'])\n",
      "\n",
      "<WikiTable '2022 FIFA World Cup squads[2]'>\n",
      "dict_keys(['Confederation', 'Players', 'Percentage'])\n",
      "\n",
      "<WikiTable '2022 FIFA World Cup squads[3]'>\n",
      "dict_keys(['Average age', 'Countries'])\n",
      "\n",
      "<WikiTable '2022 FIFA World Cup squads[4]'>\n",
      "dict_keys(['Number', 'Country', 'Coaches'])\n",
      "\n"
     ]
    }
   ],
   "source": [
    "# finding out what info is in each table\n",
    "for table in tables_2022:\n",
    "    print(table)\n",
    "    print(table.rows[0].keys())\n",
    "    print(sep = 'n')"
   ]
  },
  {
   "cell_type": "markdown",
   "metadata": {},
   "source": [
    "The type of info in the tables that I care about is **club, club country, and league system**"
   ]
  },
  {
   "cell_type": "code",
   "execution_count": 8,
   "metadata": {
    "ExecuteTime": {
     "end_time": "2022-12-16T15:48:11.775926Z",
     "start_time": "2022-12-16T15:48:11.772510Z"
    }
   },
   "outputs": [],
   "source": [
    "# removing unnecessary tables \n",
    "tables_2022 = tables_2022[0:3]\n",
    "tables_2018 = tables_2018[0:3]\n",
    "tables_2014 = tables_2014[0:2]\n",
    "tables_2010 = tables_2010[0:2]\n",
    "# re-assigning them to the main table\n",
    "all_tables = [tables_2022, tables_2018, tables_2014, tables_2010, tables_2006, tables_2002, tables_1998]"
   ]
  },
  {
   "cell_type": "code",
   "execution_count": 9,
   "metadata": {
    "ExecuteTime": {
     "end_time": "2022-12-16T15:48:11.804050Z",
     "start_time": "2022-12-16T15:48:11.799460Z"
    }
   },
   "outputs": [],
   "source": [
    "# unique sets of keys in a table\n",
    "unique_keys = []\n",
    "for page in all_tables:\n",
    "    for table in page:\n",
    "        if table.rows[0].keys() not in unique_keys:\n",
    "            unique_keys.append(table.rows[0].keys())"
   ]
  },
  {
   "cell_type": "code",
   "execution_count": 10,
   "metadata": {
    "ExecuteTime": {
     "end_time": "2022-12-16T15:48:11.835069Z",
     "start_time": "2022-12-16T15:48:11.826747Z"
    }
   },
   "outputs": [
    {
     "data": {
      "text/plain": [
       "[dict_keys(['Players', 'Clubs']),\n",
       " dict_keys(['Confederation', 'Players', 'Percentage']),\n",
       " dict_keys(['Country', 'Players', 'Percentage', 'Outsidenationalsquad', 'Lower tier  players']),\n",
       " dict_keys(['Club', 'Players']),\n",
       " dict_keys(['Confederation', 'Players']),\n",
       " dict_keys(['Country', 'Players', 'Outsidenationalsquad']),\n",
       " dict_keys(['Players', 'England', 'Spain', 'Italy', 'Germany', 'France', 'Netherlands', 'Other UEFA', 'Other regions']),\n",
       " dict_keys(['Country', 'Players', 'Percent', 'Outside  national  squad']),\n",
       " dict_keys(['Country', 'Players', 'Percent', 'Outside national squad'])]"
      ]
     },
     "execution_count": 10,
     "metadata": {},
     "output_type": "execute_result"
    }
   ],
   "source": [
    "# country is a column in all of the country tables\n",
    "unique_keys"
   ]
  },
  {
   "cell_type": "markdown",
   "metadata": {},
   "source": [
    "# Turning Tables into DataFrames "
   ]
  },
  {
   "cell_type": "markdown",
   "metadata": {},
   "source": [
    "## League Country"
   ]
  },
  {
   "cell_type": "code",
   "execution_count": 239,
   "metadata": {
    "ExecuteTime": {
     "end_time": "2022-12-16T19:52:17.383379Z",
     "start_time": "2022-12-16T19:52:17.379207Z"
    }
   },
   "outputs": [],
   "source": [
    "# identifying the country tables\n",
    "country_tables = []\n",
    "for page in all_tables:\n",
    "    for table in page:\n",
    "        if \"Country\" in table.rows[0].keys():\n",
    "            country_tables.append(table)"
   ]
  },
  {
   "cell_type": "code",
   "execution_count": 240,
   "metadata": {
    "ExecuteTime": {
     "end_time": "2022-12-16T19:52:17.635581Z",
     "start_time": "2022-12-16T19:52:17.631379Z"
    }
   },
   "outputs": [
    {
     "name": "stdout",
     "output_type": "stream",
     "text": [
      "<WikiTable '2018 FIFA World Cup squads[0]'>\n",
      "dict_keys(['Country', 'Players', 'Percentage', 'Outsidenationalsquad', 'Lower tier  players'])\n",
      "\n",
      "<WikiTable '2014 FIFA World Cup squads[0]'>\n",
      "dict_keys(['Country', 'Players', 'Outsidenationalsquad'])\n",
      "\n",
      "<WikiTable '2010 FIFA World Cup squads[1]'>\n",
      "dict_keys(['Country', 'Players', 'Percent', 'Outside  national  squad'])\n",
      "\n",
      "<WikiTable '2006 FIFA World Cup squads[0]'>\n",
      "dict_keys(['Country', 'Players', 'Percent', 'Outside  national  squad'])\n",
      "\n",
      "<WikiTable '2002 FIFA World Cup squads[0]'>\n",
      "dict_keys(['Country', 'Players', 'Percent', 'Outside  national  squad'])\n",
      "\n",
      "<WikiTable '1998 FIFA World Cup squads[0]'>\n",
      "dict_keys(['Country', 'Players', 'Percent', 'Outside national squad'])\n",
      "\n"
     ]
    }
   ],
   "source": [
    "for name in country_tables:\n",
    "    print(f\"{name}\")\n",
    "    print(name.rows[0].keys())\n",
    "    print(sep = 'n')"
   ]
  },
  {
   "cell_type": "markdown",
   "metadata": {},
   "source": [
    "## Turning them into seperate dataframes"
   ]
  },
  {
   "cell_type": "code",
   "execution_count": 241,
   "metadata": {
    "ExecuteTime": {
     "end_time": "2022-12-16T19:52:18.030425Z",
     "start_time": "2022-12-16T19:52:18.017516Z"
    }
   },
   "outputs": [],
   "source": [
    "countries_df_2018 = pd.DataFrame.from_dict(country_tables[0].rows)\n",
    "countries_df_2014 = pd.DataFrame.from_dict(country_tables[1].rows)\n",
    "countries_df_2010 = pd.DataFrame.from_dict(country_tables[2].rows)\n",
    "countries_df_2006 = pd.DataFrame.from_dict(country_tables[3].rows)\n",
    "countries_df_2002 = pd.DataFrame.from_dict(country_tables[4].rows)\n",
    "countries_df_1998 = pd.DataFrame.from_dict(country_tables[5].rows)"
   ]
  },
  {
   "cell_type": "code",
   "execution_count": 242,
   "metadata": {
    "ExecuteTime": {
     "end_time": "2022-12-16T19:52:18.224390Z",
     "start_time": "2022-12-16T19:52:18.221675Z"
    }
   },
   "outputs": [],
   "source": [
    "countries_df_list = [countries_df_2022, countries_df_2018, countries_df_2014, \n",
    "                    countries_df_2010, countries_df_2006, countries_df_2002,\n",
    "                    countries_df_1998]"
   ]
  },
  {
   "cell_type": "code",
   "execution_count": 243,
   "metadata": {
    "ExecuteTime": {
     "end_time": "2022-12-16T19:52:18.425840Z",
     "start_time": "2022-12-16T19:52:18.423304Z"
    }
   },
   "outputs": [],
   "source": [
    "# changing the tables to have the correct column names\n",
    "column_name_replacements = {\"Percentage\": \"Percent\",\n",
    "                           \"Outsidenationalsquad\": 'Outside national squad',\n",
    "                           'Outside  national  squad': 'Outside national squad',\n",
    "                           'Outside\\nnational\\nsquad': 'Outside national squad',\n",
    "                           'Lower tier \\n players': 'Lower tier players',\n",
    "                           'Lower tier  players': 'Lower tier players'}"
   ]
  },
  {
   "cell_type": "code",
   "execution_count": 244,
   "metadata": {
    "ExecuteTime": {
     "end_time": "2022-12-16T19:52:18.593250Z",
     "start_time": "2022-12-16T19:52:18.584933Z"
    }
   },
   "outputs": [],
   "source": [
    "for df in countries_df_list:\n",
    "    df.rename(columns=column_name_replacements,\n",
    "              inplace=True)\n",
    "    if 'Percent' in df.columns:\n",
    "        df.drop(columns='Percent', inplace=True)"
   ]
  },
  {
   "cell_type": "code",
   "execution_count": 245,
   "metadata": {
    "ExecuteTime": {
     "end_time": "2022-12-16T19:52:18.783992Z",
     "start_time": "2022-12-16T19:52:18.781626Z"
    }
   },
   "outputs": [],
   "source": [
    "# what column names are still wonky\n",
    "# all_country_column_names = []\n",
    "# for df in countries_df_list:\n",
    "#     for col_name in df.columns:\n",
    "#         if col_name not in all_country_column_names:\n",
    "#             all_country_column_names.append(col_name)"
   ]
  },
  {
   "cell_type": "markdown",
   "metadata": {},
   "source": [
    "## Combining Country dataframes"
   ]
  },
  {
   "cell_type": "code",
   "execution_count": 246,
   "metadata": {
    "ExecuteTime": {
     "end_time": "2022-12-16T19:52:19.189455Z",
     "start_time": "2022-12-16T19:52:19.181536Z"
    }
   },
   "outputs": [],
   "source": [
    "# adding year to each df\n",
    "countries_df_2022['Year']= '2022'\n",
    "countries_df_2018['Year']= '2018'\n",
    "countries_df_2014['Year']= '2014'\n",
    "countries_df_2010['Year']= '2010'\n",
    "countries_df_2006['Year']= '2006'\n",
    "countries_df_2002['Year']= '2002'  \n",
    "countries_df_1998['Year']= '1998'"
   ]
  },
  {
   "cell_type": "code",
   "execution_count": 247,
   "metadata": {
    "ExecuteTime": {
     "end_time": "2022-12-16T19:52:19.441371Z",
     "start_time": "2022-12-16T19:52:19.435486Z"
    }
   },
   "outputs": [],
   "source": [
    "# adding a blank column if it's missing percent or lower_tier_national_players\n",
    "countries_df_2014['Lower tier players'] = 0\n",
    "countries_df_2010['Lower tier players'] = 0\n",
    "countries_df_2006['Lower tier players'] = 0\n",
    "countries_df_2002['Lower tier players'] = 0\n",
    "countries_df_1998['Lower tier players'] = 0"
   ]
  },
  {
   "cell_type": "code",
   "execution_count": 248,
   "metadata": {
    "ExecuteTime": {
     "end_time": "2022-12-16T19:52:19.672658Z",
     "start_time": "2022-12-16T19:52:19.668101Z"
    }
   },
   "outputs": [],
   "source": [
    "countries_df_2010['Country'] = countries_df_2010['Country'].astype(str)\n",
    "countries_df_2014['Country'] = countries_df_2014['Country'].astype(str)\n",
    "countries_df_2018['Country'] = countries_df_2018['Country'].astype(str)\n",
    "new_2010_country_list = fix_country_names(countries_df_2010)\n",
    "new_2014_country_list = fix_country_names(countries_df_2014)\n",
    "new_2018_country_list = fix_country_names(countries_df_2018)"
   ]
  },
  {
   "cell_type": "code",
   "execution_count": 249,
   "metadata": {
    "ExecuteTime": {
     "end_time": "2022-12-16T19:52:19.878150Z",
     "start_time": "2022-12-16T19:52:19.874589Z"
    }
   },
   "outputs": [],
   "source": [
    "countries_df_2010['Country'] = new_2010_country_list\n",
    "countries_df_2014['Country'] = new_2014_country_list\n",
    "countries_df_2018['Country'] = new_2018_country_list"
   ]
  },
  {
   "cell_type": "code",
   "execution_count": 250,
   "metadata": {
    "ExecuteTime": {
     "end_time": "2022-12-16T19:52:20.089804Z",
     "start_time": "2022-12-16T19:52:20.077011Z"
    }
   },
   "outputs": [],
   "source": [
    "countries_df_2018 = make_df_fields_numeric(countries_df_2018)\n",
    "countries_df_2014 = make_df_fields_numeric(countries_df_2014)\n",
    "countries_df_2010 = make_df_fields_numeric(countries_df_2010)\n",
    "countries_df_2006 = make_df_fields_numeric(countries_df_2006)\n",
    "countries_df_2002 = make_df_fields_numeric(countries_df_2002)\n",
    "countries_df_1998 = make_df_fields_numeric(countries_df_1998)"
   ]
  },
  {
   "cell_type": "code",
   "execution_count": 251,
   "metadata": {
    "ExecuteTime": {
     "end_time": "2022-12-16T19:52:20.300525Z",
     "start_time": "2022-12-16T19:52:20.285226Z"
    }
   },
   "outputs": [],
   "source": [
    "countries_df_combined_original = pd.concat(countries_df_list).reset_index(drop=True)\n",
    "countries_df_combined = pd.concat(countries_df_list).reset_index(drop=True)"
   ]
  },
  {
   "cell_type": "markdown",
   "metadata": {},
   "source": [
    "### Data Cleaning"
   ]
  },
  {
   "cell_type": "code",
   "execution_count": 252,
   "metadata": {
    "ExecuteTime": {
     "end_time": "2022-12-16T19:52:20.735800Z",
     "start_time": "2022-12-16T19:52:20.732112Z"
    }
   },
   "outputs": [],
   "source": [
    "countries_df_combined['Country'] = countries_df_combined['Country'].astype(str)"
   ]
  },
  {
   "cell_type": "code",
   "execution_count": 253,
   "metadata": {
    "ExecuteTime": {
     "end_time": "2022-12-16T19:52:21.349379Z",
     "start_time": "2022-12-16T19:52:21.341881Z"
    }
   },
   "outputs": [],
   "source": [
    "# removing total rows\n",
    "bad_values_list = ['Total', 'Others']\n",
    "countries_df_combined = countries_df_combined[countries_df_combined['Country'].isin(bad_values_list) == False]\n",
    "countries_df_combined_original = countries_df_combined_original[countries_df_combined_original['Country'].isin(['Total']) == False]"
   ]
  },
  {
   "cell_type": "code",
   "execution_count": 254,
   "metadata": {
    "ExecuteTime": {
     "end_time": "2022-12-16T19:52:21.591256Z",
     "start_time": "2022-12-16T19:52:21.584211Z"
    }
   },
   "outputs": [],
   "source": [
    "countries_df_combined = make_df_fields_numeric(countries_df_combined)\n",
    "countries_df_combined_original = make_df_fields_numeric(countries_df_combined_original)"
   ]
  },
  {
   "cell_type": "code",
   "execution_count": 255,
   "metadata": {
    "ExecuteTime": {
     "end_time": "2022-12-16T19:52:21.828124Z",
     "start_time": "2022-12-16T19:52:21.825742Z"
    }
   },
   "outputs": [],
   "source": [
    "# countries_df_combined['Lower tier players'] = pd.to_numeric(countries_df_combined['Lower tier players']\n",
    "#                                                             , errors='coerce')\n",
    "# countries_df_combined['Players'] = pd.to_numeric(countries_df_combined['Players']\n",
    "#                                                             , errors='coerce')\n",
    "# countries_df_combined['Outside national squad'] = pd.to_numeric(countries_df_combined['Outside national squad']\n",
    "#                                                             , errors='coerce')"
   ]
  },
  {
   "cell_type": "code",
   "execution_count": 263,
   "metadata": {
    "ExecuteTime": {
     "end_time": "2022-12-16T19:52:31.491250Z",
     "start_time": "2022-12-16T19:52:31.483123Z"
    }
   },
   "outputs": [],
   "source": [
    "# most tables only show the top 10 countries so it's not fair to compare the less dominant countries\n",
    "countries_df_groupby = countries_df_combined.groupby('Country').sum()\n",
    "# countries_df_groupby['Percent_of_total'] = "
   ]
  },
  {
   "cell_type": "code",
   "execution_count": 258,
   "metadata": {
    "ExecuteTime": {
     "end_time": "2022-12-16T19:52:22.455040Z",
     "start_time": "2022-12-16T19:52:22.447886Z"
    }
   },
   "outputs": [],
   "source": [
    "country_groupby_percentages_of_total = [round((x*100)/countries_df_combined_original.Players.sum(), 3)\n",
    "                                        for x in countries_df_groupby.values]"
   ]
  },
  {
   "cell_type": "code",
   "execution_count": 259,
   "metadata": {
    "ExecuteTime": {
     "end_time": "2022-12-16T19:52:22.658725Z",
     "start_time": "2022-12-16T19:52:22.656490Z"
    }
   },
   "outputs": [],
   "source": [
    "country_w_percentage_of_total = list(zip(countries_df_groupby.index, country_groupby_percentages_of_total))"
   ]
  },
  {
   "cell_type": "code",
   "execution_count": 260,
   "metadata": {
    "ExecuteTime": {
     "end_time": "2022-12-16T19:52:22.880947Z",
     "start_time": "2022-12-16T19:52:22.877972Z"
    }
   },
   "outputs": [
    {
     "name": "stdout",
     "output_type": "stream",
     "text": [
      "('England', 11.182)\n",
      "('France', 4.705)\n",
      "('Germany', 6.85)\n",
      "('Italy', 6.809)\n",
      "('Japan', 1.246)\n",
      "('Mexico', 2.311)\n",
      "('Netherlands', 1.675)\n",
      "('Portugal', 1.149)\n",
      "('Saudi Arabia', 1.868)\n",
      "('Spain', 6.518)\n",
      "('United States', 1.079)\n"
     ]
    }
   ],
   "source": [
    "for item in country_w_percentage_of_total:\n",
    "    if item[1] > 1:\n",
    "        print(item)"
   ]
  },
  {
   "cell_type": "code",
   "execution_count": 261,
   "metadata": {
    "ExecuteTime": {
     "end_time": "2022-12-16T19:52:23.196972Z",
     "start_time": "2022-12-16T19:52:23.189810Z"
    }
   },
   "outputs": [
    {
     "data": {
      "text/plain": [
       "Country\n",
       "England         808\n",
       "Germany         495\n",
       "Italy           492\n",
       "Spain           471\n",
       "France          340\n",
       "Mexico          167\n",
       "Saudi Arabia    135\n",
       "Netherlands     121\n",
       "Name: Players, dtype: int64"
      ]
     },
     "execution_count": 261,
     "metadata": {},
     "output_type": "execute_result"
    }
   ],
   "source": [
    "# raw total\n",
    "countries_df_groupby.sort_values(ascending=False)[0:8]"
   ]
  },
  {
   "cell_type": "code",
   "execution_count": 262,
   "metadata": {
    "ExecuteTime": {
     "end_time": "2022-12-16T19:52:23.885758Z",
     "start_time": "2022-12-16T19:52:23.878352Z"
    }
   },
   "outputs": [
    {
     "name": "stdout",
     "output_type": "stream",
     "text": [
      "7226\n"
     ]
    },
    {
     "data": {
      "text/plain": [
       "1032.2857142857142"
      ]
     },
     "execution_count": 262,
     "metadata": {},
     "output_type": "execute_result"
    }
   ],
   "source": [
    "# percentage of ALL players\n",
    "print(countries_df_combined_original.Players.sum())\n",
    "# there are about 1000 players in the world cup \n",
    "## seems a pretty close since 32 teams * 32 players \n",
    "countries_df_combined_original.Players.sum()/7"
   ]
  },
  {
   "cell_type": "markdown",
   "metadata": {},
   "source": [
    "# Club Data"
   ]
  },
  {
   "cell_type": "markdown",
   "metadata": {},
   "source": [
    "## Finding the Tables"
   ]
  },
  {
   "cell_type": "code",
   "execution_count": 13,
   "metadata": {
    "ExecuteTime": {
     "end_time": "2022-12-16T15:48:42.459638Z",
     "start_time": "2022-12-16T15:48:42.454262Z"
    }
   },
   "outputs": [],
   "source": [
    "# club, players are the tables that are easiest to work with\n",
    "## 2022, 2018, 2014, and 2006 have nice and neat tables\n",
    "# identifying the country tables\n",
    "club_tables = []\n",
    "for page in all_tables:\n",
    "    for table in page:\n",
    "        if \"Club\" in table.rows[0].keys():\n",
    "            club_tables.append(table)\n",
    "        elif \"Clubs\" in table.rows[0].keys():\n",
    "            club_tables.append(table)"
   ]
  },
  {
   "cell_type": "code",
   "execution_count": 14,
   "metadata": {
    "ExecuteTime": {
     "end_time": "2022-12-16T15:48:42.714205Z",
     "start_time": "2022-12-16T15:48:42.709218Z"
    },
    "collapsed": true
   },
   "outputs": [
    {
     "name": "stdout",
     "output_type": "stream",
     "text": [
      "<WikiTable '2022 FIFA World Cup squads[0]'>\n",
      "dict_keys(['Players', 'Clubs'])\n",
      "\n",
      "<WikiTable '2022 FIFA World Cup squads[1]'>\n",
      "dict_keys(['Players', 'Clubs'])\n",
      "\n",
      "<WikiTable '2018 FIFA World Cup squads[1]'>\n",
      "dict_keys(['Club', 'Players'])\n",
      "\n",
      "<WikiTable '2014 FIFA World Cup squads[1]'>\n",
      "dict_keys(['Club', 'Players'])\n",
      "\n",
      "<WikiTable '2006 FIFA World Cup squads[1]'>\n",
      "dict_keys(['Players', 'Clubs'])\n",
      "\n"
     ]
    }
   ],
   "source": [
    "# 2022 split the tables into more than 10 players and 10 or less players\n",
    "for name in club_tables:\n",
    "    print(f\"{name}\")\n",
    "    print(name.rows[0].keys())\n",
    "    print(sep = 'n')"
   ]
  },
  {
   "cell_type": "markdown",
   "metadata": {},
   "source": [
    "## Joining the Tables together"
   ]
  },
  {
   "cell_type": "code",
   "execution_count": 15,
   "metadata": {
    "ExecuteTime": {
     "end_time": "2022-12-16T15:48:43.232964Z",
     "start_time": "2022-12-16T15:48:43.221230Z"
    }
   },
   "outputs": [],
   "source": [
    "clubs_df_2022_1 = pd.DataFrame.from_dict(club_tables[0].rows)\n",
    "clubs_df_2022_2 = pd.DataFrame.from_dict(club_tables[1].rows)\n",
    "clubs_df_2018 = pd.DataFrame.from_dict(club_tables[2].rows)\n",
    "clubs_df_2014 = pd.DataFrame.from_dict(club_tables[3].rows)\n",
    "# clubs_df_2006 = pd.DataFrame.from_dict(club_tables[4].rows)"
   ]
  },
  {
   "cell_type": "code",
   "execution_count": 16,
   "metadata": {
    "ExecuteTime": {
     "end_time": "2022-12-16T15:48:43.808851Z",
     "start_time": "2022-12-16T15:48:43.805149Z"
    }
   },
   "outputs": [],
   "source": [
    "clubs_df_list = [clubs_df_2022_1, clubs_df_2022_2, clubs_df_2018, clubs_df_2014]\n",
    "#, clubs_df_2006"
   ]
  },
  {
   "cell_type": "code",
   "execution_count": 17,
   "metadata": {
    "ExecuteTime": {
     "end_time": "2022-12-16T15:48:44.269128Z",
     "start_time": "2022-12-16T15:48:44.261171Z"
    }
   },
   "outputs": [],
   "source": [
    "for df in clubs_df_list:\n",
    "    df.rename(columns={'Club': \"Clubs\"}, inplace=True)"
   ]
  },
  {
   "cell_type": "code",
   "execution_count": 18,
   "metadata": {
    "ExecuteTime": {
     "end_time": "2022-12-16T15:48:45.470256Z",
     "start_time": "2022-12-16T15:48:45.460746Z"
    }
   },
   "outputs": [],
   "source": [
    "new_col_order = ['Players', 'Clubs']\n",
    "clubs_df_2018 = clubs_df_2018[new_col_order]\n",
    "clubs_df_2014 = clubs_df_2014[new_col_order]"
   ]
  },
  {
   "cell_type": "code",
   "execution_count": 19,
   "metadata": {
    "ExecuteTime": {
     "end_time": "2022-12-16T15:48:49.448932Z",
     "start_time": "2022-12-16T15:48:49.441273Z"
    },
    "collapsed": true
   },
   "outputs": [
    {
     "name": "stderr",
     "output_type": "stream",
     "text": [
      "/Users/gregfeliu/opt/anaconda3/envs/learn-env/lib/python3.6/site-packages/ipykernel_launcher.py:4: SettingWithCopyWarning: \n",
      "A value is trying to be set on a copy of a slice from a DataFrame.\n",
      "Try using .loc[row_indexer,col_indexer] = value instead\n",
      "\n",
      "See the caveats in the documentation: https://pandas.pydata.org/pandas-docs/stable/user_guide/indexing.html#returning-a-view-versus-a-copy\n",
      "  after removing the cwd from sys.path.\n",
      "/Users/gregfeliu/opt/anaconda3/envs/learn-env/lib/python3.6/site-packages/ipykernel_launcher.py:5: SettingWithCopyWarning: \n",
      "A value is trying to be set on a copy of a slice from a DataFrame.\n",
      "Try using .loc[row_indexer,col_indexer] = value instead\n",
      "\n",
      "See the caveats in the documentation: https://pandas.pydata.org/pandas-docs/stable/user_guide/indexing.html#returning-a-view-versus-a-copy\n",
      "  \"\"\"\n"
     ]
    }
   ],
   "source": [
    "# adding the year\n",
    "clubs_df_2022_1['Year'] = '2022'\n",
    "clubs_df_2022_2['Year'] = '2022'\n",
    "clubs_df_2018['Year'] = '2018'\n",
    "clubs_df_2014['Year'] = '2014'\n",
    "# clubs_df_2006['Year'] = '2006'"
   ]
  },
  {
   "cell_type": "code",
   "execution_count": 20,
   "metadata": {
    "ExecuteTime": {
     "end_time": "2022-12-16T15:48:52.864816Z",
     "start_time": "2022-12-16T15:48:52.858646Z"
    },
    "collapsed": true
   },
   "outputs": [
    {
     "name": "stderr",
     "output_type": "stream",
     "text": [
      "/Users/gregfeliu/opt/anaconda3/envs/learn-env/lib/python3.6/site-packages/ipykernel_launcher.py:21: SettingWithCopyWarning: \n",
      "A value is trying to be set on a copy of a slice from a DataFrame.\n",
      "Try using .loc[row_indexer,col_indexer] = value instead\n",
      "\n",
      "See the caveats in the documentation: https://pandas.pydata.org/pandas-docs/stable/user_guide/indexing.html#returning-a-view-versus-a-copy\n"
     ]
    }
   ],
   "source": [
    "clubs_df_2022_1 = make_cols_strings(clubs_df_2022_1, columns=['Players', 'Clubs'])\n",
    "clubs_df_2022_2 = make_cols_strings(clubs_df_2022_2, columns=['Players', 'Clubs'])\n",
    "clubs_df_2018 = make_cols_strings(clubs_df_2018, columns=['Players', 'Clubs'])\n",
    "clubs_df_2014 = make_cols_strings(clubs_df_2014, columns=['Players', 'Clubs'])\n",
    "# clubs_df_2006 = make_cols_strings(clubs_df_2006, columns=['Players', 'Clubs'])"
   ]
  },
  {
   "cell_type": "code",
   "execution_count": 21,
   "metadata": {
    "ExecuteTime": {
     "end_time": "2022-12-16T15:48:55.769615Z",
     "start_time": "2022-12-16T15:48:55.760545Z"
    },
    "collapsed": true
   },
   "outputs": [
    {
     "name": "stderr",
     "output_type": "stream",
     "text": [
      "/Users/gregfeliu/opt/anaconda3/envs/learn-env/lib/python3.6/site-packages/ipykernel_launcher.py:3: SettingWithCopyWarning: \n",
      "A value is trying to be set on a copy of a slice from a DataFrame.\n",
      "Try using .loc[row_indexer,col_indexer] = value instead\n",
      "\n",
      "See the caveats in the documentation: https://pandas.pydata.org/pandas-docs/stable/user_guide/indexing.html#returning-a-view-versus-a-copy\n",
      "  This is separate from the ipykernel package so we can avoid doing imports until\n",
      "/Users/gregfeliu/opt/anaconda3/envs/learn-env/lib/python3.6/site-packages/ipykernel_launcher.py:4: SettingWithCopyWarning: \n",
      "A value is trying to be set on a copy of a slice from a DataFrame.\n",
      "Try using .loc[row_indexer,col_indexer] = value instead\n",
      "\n",
      "See the caveats in the documentation: https://pandas.pydata.org/pandas-docs/stable/user_guide/indexing.html#returning-a-view-versus-a-copy\n",
      "  after removing the cwd from sys.path.\n"
     ]
    }
   ],
   "source": [
    "clubs_df_2022_1['Players'] = pd.to_numeric(clubs_df_2022_1['Players'], errors='coerce')\n",
    "clubs_df_2022_2['Players'] = pd.to_numeric(clubs_df_2022_2['Players'], errors='coerce')\n",
    "clubs_df_2018['Players'] = pd.to_numeric(clubs_df_2018['Players'], errors='coerce')\n",
    "clubs_df_2014['Players'] = pd.to_numeric(clubs_df_2014['Players'], errors='coerce')\n",
    "# clubs_df_2006['Players'] = pd.to_numeric(clubs_df_2006['Players'], errors='coerce')"
   ]
  },
  {
   "cell_type": "code",
   "execution_count": 70,
   "metadata": {
    "ExecuteTime": {
     "end_time": "2022-12-16T16:23:06.724101Z",
     "start_time": "2022-12-16T16:23:06.716819Z"
    }
   },
   "outputs": [],
   "source": [
    "clubs_df_list = [clubs_df_2022_1, clubs_df_2022_2, clubs_df_2018, clubs_df_2014]\n",
    "#  clubs_df_2006\n",
    "clubs_df_combined_original = pd.concat(clubs_df_list).reset_index(drop=True)\n",
    "clubs_df_combined = pd.concat(clubs_df_list).reset_index(drop=True)"
   ]
  },
  {
   "cell_type": "code",
   "execution_count": 71,
   "metadata": {
    "ExecuteTime": {
     "end_time": "2022-12-16T16:23:07.027971Z",
     "start_time": "2022-12-16T16:23:07.023237Z"
    }
   },
   "outputs": [],
   "source": [
    "# only rows with more than 10 players since that's the min cut off from 2018 and earlier\n",
    "clubs_df_combined = clubs_df_combined[clubs_df_combined['Players'] >= 10].reset_index(drop=True)"
   ]
  },
  {
   "cell_type": "markdown",
   "metadata": {},
   "source": [
    "## Counting the number of times a club appears"
   ]
  },
  {
   "cell_type": "code",
   "execution_count": 150,
   "metadata": {
    "ExecuteTime": {
     "end_time": "2022-12-16T16:48:15.604652Z",
     "start_time": "2022-12-16T16:48:15.601435Z"
    }
   },
   "outputs": [],
   "source": [
    "# will need to make a dict that accounts for each team and adds the number of players\n",
    "country_dict = {}\n",
    "# will have a dictionary for each club and a count of each club after this "
   ]
  },
  {
   "cell_type": "code",
   "execution_count": 151,
   "metadata": {
    "ExecuteTime": {
     "end_time": "2022-12-16T16:48:15.799954Z",
     "start_time": "2022-12-16T16:48:15.795371Z"
    },
    "code_folding": []
   },
   "outputs": [],
   "source": [
    "# find all of the countries in the data set\n",
    "for row in clubs_df_combined['Clubs']:\n",
    "    split_clubs = row.split()\n",
    "    for word in split_clubs:\n",
    "        if word.isupper():\n",
    "            if word not in country_dict.keys():\n",
    "                country_dict[word] = None\n",
    "#     if(words[i][0].isupper() and words[i+1][0].isupper()):"
   ]
  },
  {
   "cell_type": "code",
   "execution_count": 166,
   "metadata": {
    "ExecuteTime": {
     "end_time": "2022-12-16T16:51:58.924096Z",
     "start_time": "2022-12-16T16:51:58.915365Z"
    }
   },
   "outputs": [],
   "source": [
    "# find the index of the countries and then combine the values in between the countries\n",
    "all_club_names = []\n",
    "for row in clubs_df_combined['Clubs']:\n",
    "   # find the index of the countries and then combine the values in between the countries\n",
    "    country_indices = []\n",
    "    split_clubs = row.split()\n",
    "    if \"1974\" in split_clubs: # for the 1974 paris st. germain\n",
    "        split_clubs.remove(\"1974\")\n",
    "    for idx, item in enumerate(split_clubs):\n",
    "        # identify country and record idx \n",
    "        if item in country_dict.keys():\n",
    "            country_indices.append(idx)\n",
    "    country_indices.append(len(split_clubs))\n",
    "    # find the club names between these indices\n",
    "    club_name_list = []\n",
    "    sub_club_name_list = []\n",
    "    for x in range(len(split_clubs)+1):\n",
    "        if x not in country_indices:\n",
    "            sub_club_name_list.append(split_clubs[x])\n",
    "        if x in country_indices and len(sub_club_name_list) != 0:\n",
    "            club_name_list.append(\" \".join(sub_club_name_list))\n",
    "            sub_club_name_list = []\n",
    "    all_club_names.append(club_name_list)"
   ]
  },
  {
   "cell_type": "code",
   "execution_count": 181,
   "metadata": {
    "ExecuteTime": {
     "end_time": "2022-12-16T16:54:05.206750Z",
     "start_time": "2022-12-16T16:54:05.202305Z"
    }
   },
   "outputs": [],
   "source": [
    "# getting all of the club names into a dict\n",
    "club_name_appearances_dict = {}\n",
    "for item in all_club_names:\n",
    "    if len(item) == 1:\n",
    "        club_name_appearances_dict[item[0]] = 0\n",
    "    elif len(item) > 1:\n",
    "        for thing in item:\n",
    "            club_name_appearances_dict[thing] = 0"
   ]
  },
  {
   "cell_type": "code",
   "execution_count": 238,
   "metadata": {
    "ExecuteTime": {
     "end_time": "2022-12-16T19:44:14.444736Z",
     "start_time": "2022-12-16T19:44:14.438915Z"
    },
    "scrolled": true
   },
   "outputs": [],
   "source": [
    "# finding the country of each club \n",
    "clubs_w_countries = {key: None for key in club_name_appearances_dict.keys()}\n",
    "for row in clubs_df_combined['Clubs']:\n",
    "    country_names = None\n",
    "    split_row = row.split()\n",
    "    for key in clubs_w_countries.keys():\n",
    "        first_word = key.split()[0]\n",
    "        if first_word in split_row:\n",
    "            club_index = split_row.index(first_word)\n",
    "            country = split_row[club_index - 1]\n",
    "            clubs_w_countries[key] = country\n",
    "# clubs_w_countries"
   ]
  },
  {
   "cell_type": "code",
   "execution_count": 183,
   "metadata": {
    "ExecuteTime": {
     "end_time": "2022-12-16T16:54:05.763869Z",
     "start_time": "2022-12-16T16:54:05.754836Z"
    }
   },
   "outputs": [],
   "source": [
    "# adding the number of players to each club\n",
    "for idx, row in enumerate(range(len(clubs_df_combined))):\n",
    "    for key, value in club_name_appearances_dict.items():\n",
    "        if key in clubs_df_combined['Clubs'][idx]:\n",
    "            club_name_appearances_dict[key] += clubs_df_combined['Players'][idx]"
   ]
  },
  {
   "cell_type": "code",
   "execution_count": 185,
   "metadata": {
    "ExecuteTime": {
     "end_time": "2022-12-16T16:55:17.351565Z",
     "start_time": "2022-12-16T16:55:17.342019Z"
    }
   },
   "outputs": [],
   "source": [
    "# The number of times that the club has sent more than 10 players\n",
    "club_name_count_dict = {key: 0 for key in club_name_appearances_dict}\n",
    "# adding the number of times the club appears\n",
    "for idx, row in enumerate(range(len(clubs_df_combined))):\n",
    "    for key, value in club_name_count_dict.items():\n",
    "        if key in clubs_df_combined['Clubs'][idx]:\n",
    "            club_name_count_dict[key] += 1"
   ]
  },
  {
   "cell_type": "markdown",
   "metadata": {},
   "source": [
    "## Creating a Dataframe with all of the clubs"
   ]
  },
  {
   "cell_type": "code",
   "execution_count": 206,
   "metadata": {
    "ExecuteTime": {
     "end_time": "2022-12-16T19:23:48.215275Z",
     "start_time": "2022-12-16T19:23:48.206163Z"
    }
   },
   "outputs": [],
   "source": [
    "clubs_more_than_10_players_df = pd.DataFrame.from_dict(club_name_appearances_dict, orient='index')\n",
    "clubs_more_than_10_players_df['Number_of_times_in_world_cup'] = club_name_count_dict.values()\n",
    "clubs_more_than_10_players_df['Country'] = clubs_w_countries.values()"
   ]
  },
  {
   "cell_type": "code",
   "execution_count": 227,
   "metadata": {
    "ExecuteTime": {
     "end_time": "2022-12-16T19:33:02.128852Z",
     "start_time": "2022-12-16T19:33:02.125765Z"
    }
   },
   "outputs": [],
   "source": [
    "# changning from 1974\n",
    "clubs_more_than_10_players_df.at['Paris Saint-Germain', 'Country'] = 'FRA'\n",
    "clubs_more_than_10_players_df.columns = [\"Players_sent\", \"Number_of_times_in_world_cup\", \"Country\"]"
   ]
  },
  {
   "cell_type": "code",
   "execution_count": 229,
   "metadata": {
    "ExecuteTime": {
     "end_time": "2022-12-16T19:33:27.904555Z",
     "start_time": "2022-12-16T19:33:27.889114Z"
    },
    "scrolled": true
   },
   "outputs": [
    {
     "data": {
      "text/html": [
       "<div>\n",
       "<style scoped>\n",
       "    .dataframe tbody tr th:only-of-type {\n",
       "        vertical-align: middle;\n",
       "    }\n",
       "\n",
       "    .dataframe tbody tr th {\n",
       "        vertical-align: top;\n",
       "    }\n",
       "\n",
       "    .dataframe thead th {\n",
       "        text-align: right;\n",
       "    }\n",
       "</style>\n",
       "<table border=\"1\" class=\"dataframe\">\n",
       "  <thead>\n",
       "    <tr style=\"text-align: right;\">\n",
       "      <th></th>\n",
       "      <th>Players_sent</th>\n",
       "      <th>Number_of_times_in_world_cup</th>\n",
       "      <th>Country</th>\n",
       "      <th>cut_jenks</th>\n",
       "    </tr>\n",
       "  </thead>\n",
       "  <tbody>\n",
       "    <tr>\n",
       "      <th>Barcelona</th>\n",
       "      <td>44</td>\n",
       "      <td>3</td>\n",
       "      <td>ESP</td>\n",
       "      <td>star_clubs</td>\n",
       "    </tr>\n",
       "    <tr>\n",
       "      <th>Manchester City</th>\n",
       "      <td>42</td>\n",
       "      <td>3</td>\n",
       "      <td>ENG</td>\n",
       "      <td>star_clubs</td>\n",
       "    </tr>\n",
       "    <tr>\n",
       "      <th>Bayern Munich</th>\n",
       "      <td>41</td>\n",
       "      <td>3</td>\n",
       "      <td>GER</td>\n",
       "      <td>star_clubs</td>\n",
       "    </tr>\n",
       "    <tr>\n",
       "      <th>Real Madrid</th>\n",
       "      <td>40</td>\n",
       "      <td>3</td>\n",
       "      <td>ESP</td>\n",
       "      <td>star_clubs</td>\n",
       "    </tr>\n",
       "    <tr>\n",
       "      <th>Manchester United</th>\n",
       "      <td>39</td>\n",
       "      <td>3</td>\n",
       "      <td>ENG</td>\n",
       "      <td>star_clubs</td>\n",
       "    </tr>\n",
       "    <tr>\n",
       "      <th>Chelsea</th>\n",
       "      <td>35</td>\n",
       "      <td>3</td>\n",
       "      <td>ENG</td>\n",
       "      <td>star_clubs</td>\n",
       "    </tr>\n",
       "    <tr>\n",
       "      <th>Juventus</th>\n",
       "      <td>34</td>\n",
       "      <td>3</td>\n",
       "      <td>ITA</td>\n",
       "      <td>star_clubs</td>\n",
       "    </tr>\n",
       "    <tr>\n",
       "      <th>Paris Saint-Germain</th>\n",
       "      <td>33</td>\n",
       "      <td>3</td>\n",
       "      <td>FRA</td>\n",
       "      <td>star_clubs</td>\n",
       "    </tr>\n",
       "    <tr>\n",
       "      <th>Tottenham Hotspur</th>\n",
       "      <td>23</td>\n",
       "      <td>2</td>\n",
       "      <td>ENG</td>\n",
       "      <td>Superstar_clubs</td>\n",
       "    </tr>\n",
       "    <tr>\n",
       "      <th>Arsenal</th>\n",
       "      <td>20</td>\n",
       "      <td>2</td>\n",
       "      <td>ENG</td>\n",
       "      <td>Superstar_clubs</td>\n",
       "    </tr>\n",
       "    <tr>\n",
       "      <th>Al-Sadd</th>\n",
       "      <td>15</td>\n",
       "      <td>1</td>\n",
       "      <td>QAT</td>\n",
       "      <td>Superstar_clubs</td>\n",
       "    </tr>\n",
       "    <tr>\n",
       "      <th>Al Hilal</th>\n",
       "      <td>12</td>\n",
       "      <td>1</td>\n",
       "      <td>KSA</td>\n",
       "      <td>Superstar_clubs</td>\n",
       "    </tr>\n",
       "    <tr>\n",
       "      <th>Atlético Madrid</th>\n",
       "      <td>12</td>\n",
       "      <td>1</td>\n",
       "      <td>ESP</td>\n",
       "      <td>Superstar_clubs</td>\n",
       "    </tr>\n",
       "    <tr>\n",
       "      <th>Napoli</th>\n",
       "      <td>12</td>\n",
       "      <td>1</td>\n",
       "      <td>ITA</td>\n",
       "      <td>Superstar_clubs</td>\n",
       "    </tr>\n",
       "    <tr>\n",
       "      <th>Ajax</th>\n",
       "      <td>11</td>\n",
       "      <td>1</td>\n",
       "      <td>NED</td>\n",
       "      <td>Superstar_clubs</td>\n",
       "    </tr>\n",
       "    <tr>\n",
       "      <th>Borussia Dortmund</th>\n",
       "      <td>11</td>\n",
       "      <td>1</td>\n",
       "      <td>GER</td>\n",
       "      <td>Superstar_clubs</td>\n",
       "    </tr>\n",
       "    <tr>\n",
       "      <th>Sevilla</th>\n",
       "      <td>10</td>\n",
       "      <td>1</td>\n",
       "      <td>ESP</td>\n",
       "      <td>Superstar_clubs</td>\n",
       "    </tr>\n",
       "    <tr>\n",
       "      <th>Liverpool</th>\n",
       "      <td>10</td>\n",
       "      <td>1</td>\n",
       "      <td>ENG</td>\n",
       "      <td>Superstar_clubs</td>\n",
       "    </tr>\n",
       "  </tbody>\n",
       "</table>\n",
       "</div>"
      ],
      "text/plain": [
       "                     Players_sent  Number_of_times_in_world_cup Country  \\\n",
       "Barcelona                      44                             3     ESP   \n",
       "Manchester City                42                             3     ENG   \n",
       "Bayern Munich                  41                             3     GER   \n",
       "Real Madrid                    40                             3     ESP   \n",
       "Manchester United              39                             3     ENG   \n",
       "Chelsea                        35                             3     ENG   \n",
       "Juventus                       34                             3     ITA   \n",
       "Paris Saint-Germain            33                             3     FRA   \n",
       "Tottenham Hotspur              23                             2     ENG   \n",
       "Arsenal                        20                             2     ENG   \n",
       "Al-Sadd                        15                             1     QAT   \n",
       "Al Hilal                       12                             1     KSA   \n",
       "Atlético Madrid                12                             1     ESP   \n",
       "Napoli                         12                             1     ITA   \n",
       "Ajax                           11                             1     NED   \n",
       "Borussia Dortmund              11                             1     GER   \n",
       "Sevilla                        10                             1     ESP   \n",
       "Liverpool                      10                             1     ENG   \n",
       "\n",
       "                           cut_jenks  \n",
       "Barcelona                 star_clubs  \n",
       "Manchester City           star_clubs  \n",
       "Bayern Munich             star_clubs  \n",
       "Real Madrid               star_clubs  \n",
       "Manchester United         star_clubs  \n",
       "Chelsea                   star_clubs  \n",
       "Juventus                  star_clubs  \n",
       "Paris Saint-Germain       star_clubs  \n",
       "Tottenham Hotspur    Superstar_clubs  \n",
       "Arsenal              Superstar_clubs  \n",
       "Al-Sadd              Superstar_clubs  \n",
       "Al Hilal             Superstar_clubs  \n",
       "Atlético Madrid      Superstar_clubs  \n",
       "Napoli               Superstar_clubs  \n",
       "Ajax                 Superstar_clubs  \n",
       "Borussia Dortmund    Superstar_clubs  \n",
       "Sevilla              Superstar_clubs  \n",
       "Liverpool            Superstar_clubs  "
      ]
     },
     "execution_count": 229,
     "metadata": {},
     "output_type": "execute_result"
    }
   ],
   "source": [
    "clubs_more_than_10_players_df.sort_values(by=[\"Players_sent\", \"Number_of_times_in_world_cup\"], ascending=False)"
   ]
  },
  {
   "cell_type": "markdown",
   "metadata": {},
   "source": [
    "## Natural Breaks"
   ]
  },
  {
   "cell_type": "code",
   "execution_count": 219,
   "metadata": {
    "ExecuteTime": {
     "end_time": "2022-12-16T19:29:35.999394Z",
     "start_time": "2022-12-16T19:29:35.994364Z"
    }
   },
   "outputs": [
    {
     "name": "stdout",
     "output_type": "stream",
     "text": [
      "[10.0, 23.0, 44.0]\n"
     ]
    }
   ],
   "source": [
    "breaks = jenkspy.jenks_breaks(clubs_more_than_10_players_df['Players_sent'], nb_class=2)\n",
    "print(breaks)"
   ]
  },
  {
   "cell_type": "code",
   "execution_count": 267,
   "metadata": {
    "ExecuteTime": {
     "end_time": "2022-12-16T20:22:48.629978Z",
     "start_time": "2022-12-16T20:22:48.615031Z"
    }
   },
   "outputs": [
    {
     "data": {
      "text/html": [
       "<div>\n",
       "<style scoped>\n",
       "    .dataframe tbody tr th:only-of-type {\n",
       "        vertical-align: middle;\n",
       "    }\n",
       "\n",
       "    .dataframe tbody tr th {\n",
       "        vertical-align: top;\n",
       "    }\n",
       "\n",
       "    .dataframe thead th {\n",
       "        text-align: right;\n",
       "    }\n",
       "</style>\n",
       "<table border=\"1\" class=\"dataframe\">\n",
       "  <thead>\n",
       "    <tr style=\"text-align: right;\">\n",
       "      <th></th>\n",
       "      <th>Players_sent</th>\n",
       "      <th>Number_of_times_in_world_cup</th>\n",
       "      <th>Country</th>\n",
       "      <th>cut_jenks</th>\n",
       "    </tr>\n",
       "  </thead>\n",
       "  <tbody>\n",
       "    <tr>\n",
       "      <th>Barcelona</th>\n",
       "      <td>44</td>\n",
       "      <td>3</td>\n",
       "      <td>ESP</td>\n",
       "      <td>Superstar clubs</td>\n",
       "    </tr>\n",
       "    <tr>\n",
       "      <th>Bayern Munich</th>\n",
       "      <td>41</td>\n",
       "      <td>3</td>\n",
       "      <td>GER</td>\n",
       "      <td>Superstar clubs</td>\n",
       "    </tr>\n",
       "    <tr>\n",
       "      <th>Manchester City</th>\n",
       "      <td>42</td>\n",
       "      <td>3</td>\n",
       "      <td>ENG</td>\n",
       "      <td>Superstar clubs</td>\n",
       "    </tr>\n",
       "    <tr>\n",
       "      <th>Al-Sadd</th>\n",
       "      <td>15</td>\n",
       "      <td>1</td>\n",
       "      <td>QAT</td>\n",
       "      <td>Star clubs</td>\n",
       "    </tr>\n",
       "    <tr>\n",
       "      <th>Manchester United</th>\n",
       "      <td>39</td>\n",
       "      <td>3</td>\n",
       "      <td>ENG</td>\n",
       "      <td>Superstar clubs</td>\n",
       "    </tr>\n",
       "    <tr>\n",
       "      <th>Real Madrid</th>\n",
       "      <td>40</td>\n",
       "      <td>3</td>\n",
       "      <td>ESP</td>\n",
       "      <td>Superstar clubs</td>\n",
       "    </tr>\n",
       "    <tr>\n",
       "      <th>Al Hilal</th>\n",
       "      <td>12</td>\n",
       "      <td>1</td>\n",
       "      <td>KSA</td>\n",
       "      <td>Star clubs</td>\n",
       "    </tr>\n",
       "    <tr>\n",
       "      <th>Atlético Madrid</th>\n",
       "      <td>12</td>\n",
       "      <td>1</td>\n",
       "      <td>ESP</td>\n",
       "      <td>Star clubs</td>\n",
       "    </tr>\n",
       "    <tr>\n",
       "      <th>Chelsea</th>\n",
       "      <td>35</td>\n",
       "      <td>3</td>\n",
       "      <td>ENG</td>\n",
       "      <td>Superstar clubs</td>\n",
       "    </tr>\n",
       "    <tr>\n",
       "      <th>Ajax</th>\n",
       "      <td>11</td>\n",
       "      <td>1</td>\n",
       "      <td>NED</td>\n",
       "      <td>Star clubs</td>\n",
       "    </tr>\n",
       "    <tr>\n",
       "      <th>Borussia Dortmund</th>\n",
       "      <td>11</td>\n",
       "      <td>1</td>\n",
       "      <td>GER</td>\n",
       "      <td>Star clubs</td>\n",
       "    </tr>\n",
       "    <tr>\n",
       "      <th>Juventus</th>\n",
       "      <td>34</td>\n",
       "      <td>3</td>\n",
       "      <td>ITA</td>\n",
       "      <td>Superstar clubs</td>\n",
       "    </tr>\n",
       "    <tr>\n",
       "      <th>Paris Saint-Germain</th>\n",
       "      <td>33</td>\n",
       "      <td>3</td>\n",
       "      <td>FRA</td>\n",
       "      <td>Superstar clubs</td>\n",
       "    </tr>\n",
       "    <tr>\n",
       "      <th>Tottenham Hotspur</th>\n",
       "      <td>23</td>\n",
       "      <td>2</td>\n",
       "      <td>ENG</td>\n",
       "      <td>Star clubs</td>\n",
       "    </tr>\n",
       "    <tr>\n",
       "      <th>Arsenal</th>\n",
       "      <td>20</td>\n",
       "      <td>2</td>\n",
       "      <td>ENG</td>\n",
       "      <td>Star clubs</td>\n",
       "    </tr>\n",
       "    <tr>\n",
       "      <th>Sevilla</th>\n",
       "      <td>10</td>\n",
       "      <td>1</td>\n",
       "      <td>ESP</td>\n",
       "      <td>Star clubs</td>\n",
       "    </tr>\n",
       "    <tr>\n",
       "      <th>Napoli</th>\n",
       "      <td>12</td>\n",
       "      <td>1</td>\n",
       "      <td>ITA</td>\n",
       "      <td>Star clubs</td>\n",
       "    </tr>\n",
       "    <tr>\n",
       "      <th>Liverpool</th>\n",
       "      <td>10</td>\n",
       "      <td>1</td>\n",
       "      <td>ENG</td>\n",
       "      <td>Star clubs</td>\n",
       "    </tr>\n",
       "  </tbody>\n",
       "</table>\n",
       "</div>"
      ],
      "text/plain": [
       "                     Players_sent  Number_of_times_in_world_cup Country  \\\n",
       "Barcelona                      44                             3     ESP   \n",
       "Bayern Munich                  41                             3     GER   \n",
       "Manchester City                42                             3     ENG   \n",
       "Al-Sadd                        15                             1     QAT   \n",
       "Manchester United              39                             3     ENG   \n",
       "Real Madrid                    40                             3     ESP   \n",
       "Al Hilal                       12                             1     KSA   \n",
       "Atlético Madrid                12                             1     ESP   \n",
       "Chelsea                        35                             3     ENG   \n",
       "Ajax                           11                             1     NED   \n",
       "Borussia Dortmund              11                             1     GER   \n",
       "Juventus                       34                             3     ITA   \n",
       "Paris Saint-Germain            33                             3     FRA   \n",
       "Tottenham Hotspur              23                             2     ENG   \n",
       "Arsenal                        20                             2     ENG   \n",
       "Sevilla                        10                             1     ESP   \n",
       "Napoli                         12                             1     ITA   \n",
       "Liverpool                      10                             1     ENG   \n",
       "\n",
       "                           cut_jenks  \n",
       "Barcelona            Superstar clubs  \n",
       "Bayern Munich        Superstar clubs  \n",
       "Manchester City      Superstar clubs  \n",
       "Al-Sadd                   Star clubs  \n",
       "Manchester United    Superstar clubs  \n",
       "Real Madrid          Superstar clubs  \n",
       "Al Hilal                  Star clubs  \n",
       "Atlético Madrid           Star clubs  \n",
       "Chelsea              Superstar clubs  \n",
       "Ajax                      Star clubs  \n",
       "Borussia Dortmund         Star clubs  \n",
       "Juventus             Superstar clubs  \n",
       "Paris Saint-Germain  Superstar clubs  \n",
       "Tottenham Hotspur         Star clubs  \n",
       "Arsenal                   Star clubs  \n",
       "Sevilla                   Star clubs  \n",
       "Napoli                    Star clubs  \n",
       "Liverpool                 Star clubs  "
      ]
     },
     "execution_count": 267,
     "metadata": {},
     "output_type": "execute_result"
    }
   ],
   "source": [
    "clubs_more_than_10_players_df['cut_jenks'] = pd.cut(clubs_more_than_10_players_df['Players_sent'],\n",
    "                        bins=breaks,\n",
    "                        labels=['Star clubs', 'Superstar clubs',],\n",
    "                        include_lowest=True)\n",
    "clubs_more_than_10_players_df"
   ]
  },
  {
   "cell_type": "markdown",
   "metadata": {},
   "source": [
    "## Grouping by Country"
   ]
  },
  {
   "cell_type": "code",
   "execution_count": 268,
   "metadata": {
    "ExecuteTime": {
     "end_time": "2022-12-16T20:22:49.398339Z",
     "start_time": "2022-12-16T20:22:49.387188Z"
    }
   },
   "outputs": [
    {
     "data": {
      "text/html": [
       "<div>\n",
       "<style scoped>\n",
       "    .dataframe tbody tr th:only-of-type {\n",
       "        vertical-align: middle;\n",
       "    }\n",
       "\n",
       "    .dataframe tbody tr th {\n",
       "        vertical-align: top;\n",
       "    }\n",
       "\n",
       "    .dataframe thead th {\n",
       "        text-align: right;\n",
       "    }\n",
       "</style>\n",
       "<table border=\"1\" class=\"dataframe\">\n",
       "  <thead>\n",
       "    <tr style=\"text-align: right;\">\n",
       "      <th></th>\n",
       "      <th>Players_sent</th>\n",
       "      <th>Number_of_times_in_world_cup</th>\n",
       "      <th>cut_jenks</th>\n",
       "    </tr>\n",
       "    <tr>\n",
       "      <th>Country</th>\n",
       "      <th></th>\n",
       "      <th></th>\n",
       "      <th></th>\n",
       "    </tr>\n",
       "  </thead>\n",
       "  <tbody>\n",
       "    <tr>\n",
       "      <th>ENG</th>\n",
       "      <td>6</td>\n",
       "      <td>6</td>\n",
       "      <td>6</td>\n",
       "    </tr>\n",
       "    <tr>\n",
       "      <th>ESP</th>\n",
       "      <td>4</td>\n",
       "      <td>4</td>\n",
       "      <td>4</td>\n",
       "    </tr>\n",
       "    <tr>\n",
       "      <th>FRA</th>\n",
       "      <td>1</td>\n",
       "      <td>1</td>\n",
       "      <td>1</td>\n",
       "    </tr>\n",
       "    <tr>\n",
       "      <th>GER</th>\n",
       "      <td>2</td>\n",
       "      <td>2</td>\n",
       "      <td>2</td>\n",
       "    </tr>\n",
       "    <tr>\n",
       "      <th>ITA</th>\n",
       "      <td>2</td>\n",
       "      <td>2</td>\n",
       "      <td>2</td>\n",
       "    </tr>\n",
       "    <tr>\n",
       "      <th>KSA</th>\n",
       "      <td>1</td>\n",
       "      <td>1</td>\n",
       "      <td>1</td>\n",
       "    </tr>\n",
       "    <tr>\n",
       "      <th>NED</th>\n",
       "      <td>1</td>\n",
       "      <td>1</td>\n",
       "      <td>1</td>\n",
       "    </tr>\n",
       "    <tr>\n",
       "      <th>QAT</th>\n",
       "      <td>1</td>\n",
       "      <td>1</td>\n",
       "      <td>1</td>\n",
       "    </tr>\n",
       "  </tbody>\n",
       "</table>\n",
       "</div>"
      ],
      "text/plain": [
       "         Players_sent  Number_of_times_in_world_cup  cut_jenks\n",
       "Country                                                       \n",
       "ENG                 6                             6          6\n",
       "ESP                 4                             4          4\n",
       "FRA                 1                             1          1\n",
       "GER                 2                             2          2\n",
       "ITA                 2                             2          2\n",
       "KSA                 1                             1          1\n",
       "NED                 1                             1          1\n",
       "QAT                 1                             1          1"
      ]
     },
     "execution_count": 268,
     "metadata": {},
     "output_type": "execute_result"
    }
   ],
   "source": [
    "clubs_by_country_count_appearences = clubs_more_than_10_players_df.groupby('Country').count()\n",
    "clubs_by_country_count_appearences"
   ]
  },
  {
   "cell_type": "markdown",
   "metadata": {},
   "source": [
    "# Exporting Data"
   ]
  },
  {
   "cell_type": "code",
   "execution_count": 269,
   "metadata": {
    "ExecuteTime": {
     "end_time": "2022-12-16T20:22:49.788085Z",
     "start_time": "2022-12-16T20:22:49.782164Z"
    }
   },
   "outputs": [],
   "source": [
    "# country tables\n",
    "countries_df_combined.to_csv(\"./data/countries_df_combined.csv\")\n",
    "countries_df_groupby.to_csv(\"./data/countries_df_groupby.csv\")"
   ]
  },
  {
   "cell_type": "code",
   "execution_count": 270,
   "metadata": {
    "ExecuteTime": {
     "end_time": "2022-12-16T20:22:50.655851Z",
     "start_time": "2022-12-16T20:22:50.647919Z"
    }
   },
   "outputs": [],
   "source": [
    "# clubs tabls \n",
    "clubs_more_than_10_players_df.to_csv(\"./data/clubs_more_than_10_players_df.csv\")\n",
    "clubs_by_country_count_appearences.to_csv(\"./data/clubs_by_country_count_appearences.csv\")"
   ]
  },
  {
   "cell_type": "markdown",
   "metadata": {},
   "source": [
    "# Links"
   ]
  },
  {
   "cell_type": "markdown",
   "metadata": {},
   "source": [
    "## Wikipedia Tables"
   ]
  },
  {
   "cell_type": "markdown",
   "metadata": {},
   "source": [
    "[2022](https://en.wikipedia.org/wiki/2022_FIFA_World_Cup_squads)\n",
    "[2018](https://en.wikipedia.org/wiki/2018_FIFA_World_Cup_squads)\n",
    "[2010](https://en.wikipedia.org/wiki/2010_FIFA_World_Cup_squads)\n",
    "[2006](https://en.wikipedia.org/wiki/2006_FIFA_World_Cup_squads)\n",
    "[2002](https://en.wikipedia.org/wiki/2002_FIFA_World_Cup_squads)\n",
    "[1998](https://en.wikipedia.org/wiki/1998_FIFA_World_Cup_squads)"
   ]
  },
  {
   "cell_type": "markdown",
   "metadata": {},
   "source": [
    "## Best League Ranking"
   ]
  },
  {
   "cell_type": "markdown",
   "metadata": {},
   "source": [
    "[The best 33](https://www.globalfootballrankings.com)\n",
    "[Top 20](https://soccerprime.com/best-soccer-leagues/)\n",
    "[Top 10](https://sportsbrief.com/facts/top-listicles/29327-which-soccer-leagues-world-a-ranked-list/)"
   ]
  },
  {
   "cell_type": "markdown",
   "metadata": {},
   "source": [
    "## Best Club Ranking"
   ]
  },
  {
   "cell_type": "markdown",
   "metadata": {},
   "source": [
    "[538](https://projects.fivethirtyeight.com/soccer-predictions/global-club-rankings/)\n",
    "[statista](https://www.statista.com/statistics/808025/best-soccer-club-teams-worldwide/)\n",
    "[bleacher report](https://bleacherreport.com/articles/546420-the-100-greatest-soccer-clubs-in-the-world/)"
   ]
  }
 ],
 "metadata": {
  "kernelspec": {
   "display_name": "Python [conda env:learn-env] *",
   "language": "python",
   "name": "conda-env-learn-env-py"
  },
  "language_info": {
   "codemirror_mode": {
    "name": "ipython",
    "version": 3
   },
   "file_extension": ".py",
   "mimetype": "text/x-python",
   "name": "python",
   "nbconvert_exporter": "python",
   "pygments_lexer": "ipython3",
   "version": "3.6.9"
  },
  "toc": {
   "base_numbering": 1,
   "nav_menu": {},
   "number_sections": true,
   "sideBar": true,
   "skip_h1_title": false,
   "title_cell": "Table of Contents",
   "title_sidebar": "Contents",
   "toc_cell": false,
   "toc_position": {
    "height": "calc(100% - 180px)",
    "left": "10px",
    "top": "150px",
    "width": "240px"
   },
   "toc_section_display": true,
   "toc_window_display": true
  },
  "varInspector": {
   "cols": {
    "lenName": 16,
    "lenType": 16,
    "lenVar": 40
   },
   "kernels_config": {
    "python": {
     "delete_cmd_postfix": "",
     "delete_cmd_prefix": "del ",
     "library": "var_list.py",
     "varRefreshCmd": "print(var_dic_list())"
    },
    "r": {
     "delete_cmd_postfix": ") ",
     "delete_cmd_prefix": "rm(",
     "library": "var_list.r",
     "varRefreshCmd": "cat(var_dic_list()) "
    }
   },
   "types_to_exclude": [
    "module",
    "function",
    "builtin_function_or_method",
    "instance",
    "_Feature"
   ],
   "window_display": false
  }
 },
 "nbformat": 4,
 "nbformat_minor": 2
}
