{
 "cells": [
  {
   "cell_type": "markdown",
   "metadata": {},
   "source": [
    "The goal of this notebook is to analyze the data tables created in the previous notebook."
   ]
  },
  {
   "cell_type": "markdown",
   "metadata": {},
   "source": [
    "# Imports "
   ]
  },
  {
   "cell_type": "code",
   "execution_count": 1,
   "metadata": {
    "ExecuteTime": {
     "end_time": "2022-12-17T18:14:13.525287Z",
     "start_time": "2022-12-17T18:14:12.152895Z"
    }
   },
   "outputs": [],
   "source": [
    "import pandas as pd\n",
    "import jenkspy"
   ]
  },
  {
   "cell_type": "code",
   "execution_count": 126,
   "metadata": {
    "ExecuteTime": {
     "end_time": "2022-12-17T21:47:04.084538Z",
     "start_time": "2022-12-17T21:47:04.059790Z"
    }
   },
   "outputs": [],
   "source": [
    "# data\n",
    "# country tables\n",
    "countries_df = pd.read_csv(\"./data/countries_df_combined.csv\", index_col=0)\n",
    "countries_df_groupby = pd.read_csv(\"./data/countries_df_groupby.csv\", index_col=0)\n",
    "countries_df_groupby['Outside national squad'] = countries_df_groupby['Outside national squad'].astype(int) \n",
    "# clubs tabls \n",
    "clubs_df = pd.read_csv(\"./data/clubs_more_than_10_players_df.csv\", index_col=0)\n",
    "clubs_by_country_count_appearences = pd.read_csv(\"./data/clubs_by_country_count_appearences.csv\", index_col=0)"
   ]
  },
  {
   "cell_type": "markdown",
   "metadata": {},
   "source": [
    "# Countries Data"
   ]
  },
  {
   "cell_type": "code",
   "execution_count": 161,
   "metadata": {
    "ExecuteTime": {
     "end_time": "2022-12-19T04:07:36.359746Z",
     "start_time": "2022-12-19T04:07:36.345324Z"
    }
   },
   "outputs": [
    {
     "data": {
      "text/html": [
       "<div>\n",
       "<style scoped>\n",
       "    .dataframe tbody tr th:only-of-type {\n",
       "        vertical-align: middle;\n",
       "    }\n",
       "\n",
       "    .dataframe tbody tr th {\n",
       "        vertical-align: top;\n",
       "    }\n",
       "\n",
       "    .dataframe thead th {\n",
       "        text-align: right;\n",
       "    }\n",
       "</style>\n",
       "<table border=\"1\" class=\"dataframe\">\n",
       "  <thead>\n",
       "    <tr style=\"text-align: right;\">\n",
       "      <th></th>\n",
       "      <th>Country</th>\n",
       "      <th>Players</th>\n",
       "      <th>Outside national squad</th>\n",
       "      <th>Lower tier players</th>\n",
       "      <th>Year</th>\n",
       "    </tr>\n",
       "  </thead>\n",
       "  <tbody>\n",
       "    <tr>\n",
       "      <th>13</th>\n",
       "      <td>Costa Rica</td>\n",
       "      <td>17</td>\n",
       "      <td>0.0</td>\n",
       "      <td>0</td>\n",
       "      <td>2022</td>\n",
       "    </tr>\n",
       "    <tr>\n",
       "      <th>89</th>\n",
       "      <td>Costa Rica</td>\n",
       "      <td>20</td>\n",
       "      <td>0.0</td>\n",
       "      <td>0</td>\n",
       "      <td>2006</td>\n",
       "    </tr>\n",
       "  </tbody>\n",
       "</table>\n",
       "</div>"
      ],
      "text/plain": [
       "       Country  Players  Outside national squad  Lower tier players  Year\n",
       "13  Costa Rica       17                     0.0                   0  2022\n",
       "89  Costa Rica       20                     0.0                   0  2006"
      ]
     },
     "execution_count": 161,
     "metadata": {},
     "output_type": "execute_result"
    }
   ],
   "source": [
    "# Costa Rica qualified 5 of the 7 times, am I missing data?\n",
    "# Did literally no one in 3 of those tournaments play in Costa Rica?\n",
    "# https://en.wikipedia.org/wiki/Costa_Rica_at_the_FIFA_World_Cup#2002_FIFA_World_Cup\n",
    "countries_df[countries_df['Country']=='Costa Rica']"
   ]
  },
  {
   "cell_type": "markdown",
   "metadata": {},
   "source": [
    "## Players "
   ]
  },
  {
   "cell_type": "code",
   "execution_count": 127,
   "metadata": {
    "ExecuteTime": {
     "end_time": "2022-12-17T21:47:04.798243Z",
     "start_time": "2022-12-17T21:47:04.793362Z"
    }
   },
   "outputs": [],
   "source": [
    "countries_df_groupby = countries_df_groupby.sort_values('Players', ascending=False)"
   ]
  },
  {
   "cell_type": "markdown",
   "metadata": {},
   "source": [
    "### How many leagues does it take to cover 75% of all players? "
   ]
  },
  {
   "cell_type": "code",
   "execution_count": 129,
   "metadata": {
    "ExecuteTime": {
     "end_time": "2022-12-17T21:47:08.369171Z",
     "start_time": "2022-12-17T21:47:08.361721Z"
    }
   },
   "outputs": [
    {
     "data": {
      "text/plain": [
       "2.21410365335599"
      ]
     },
     "execution_count": 129,
     "metadata": {},
     "output_type": "execute_result"
    }
   ],
   "source": [
    "top_5_players = countries_df_outside_national_squad.iloc[0:5]['Players'].sum()\n",
    "non_top_5_players = countries_df_outside_national_squad.iloc[5:]['Players'].sum()\n",
    "top_5_players / non_top_5_players"
   ]
  },
  {
   "cell_type": "code",
   "execution_count": 130,
   "metadata": {
    "ExecuteTime": {
     "end_time": "2022-12-17T21:47:08.771511Z",
     "start_time": "2022-12-17T21:47:08.761427Z"
    }
   },
   "outputs": [],
   "source": [
    "percent_covered_individually = [round(100*(countries_df_groupby['Players'][x] / countries_df_groupby['Players'].sum()), 3)\n",
    "                         for x in range(len(countries_df_groupby))]"
   ]
  },
  {
   "cell_type": "code",
   "execution_count": 131,
   "metadata": {
    "ExecuteTime": {
     "end_time": "2022-12-17T21:47:09.116210Z",
     "start_time": "2022-12-17T21:47:09.113394Z"
    }
   },
   "outputs": [],
   "source": [
    "def Cumulative(lists):\n",
    "    cu_list = []\n",
    "    length = len(lists)\n",
    "    cu_list = [sum(lists[0:x:1]) for x in range(0, length+1)]\n",
    "    return cu_list[1:]"
   ]
  },
  {
   "cell_type": "code",
   "execution_count": 132,
   "metadata": {
    "ExecuteTime": {
     "end_time": "2022-12-17T21:47:09.444585Z",
     "start_time": "2022-12-17T21:47:09.441089Z"
    }
   },
   "outputs": [
    {
     "data": {
      "text/plain": [
       "[21.359, 34.444, 47.45, 59.900000000000006, 68.888, 73.302]"
      ]
     },
     "execution_count": 132,
     "metadata": {},
     "output_type": "execute_result"
    }
   ],
   "source": [
    "cumulative_sums = Cumulative(percent_covered_individually)\n",
    "cumulative_sums[0:6]"
   ]
  },
  {
   "cell_type": "code",
   "execution_count": 175,
   "metadata": {
    "ExecuteTime": {
     "end_time": "2022-12-19T14:22:32.998665Z",
     "start_time": "2022-12-19T14:22:32.626628Z"
    }
   },
   "outputs": [
    {
     "data": {
      "text/plain": [
       "<AxesSubplot:>"
      ]
     },
     "execution_count": 175,
     "metadata": {},
     "output_type": "execute_result"
    },
    {
     "data": {
      "image/png": "[encoded data removed]",
      "text/plain": [
       "<Figure size 432x288 with 1 Axes>"
      ]
     },
     "metadata": {
      "needs_background": "light"
     },
     "output_type": "display_data"
    }
   ],
   "source": [
    "pd.DataFrame(cumulative_sums)[0:20].plot(kind='bar')"
   ]
  },
  {
   "cell_type": "markdown",
   "metadata": {},
   "source": [
    "## Where lower tiers are in world cup"
   ]
  },
  {
   "cell_type": "code",
   "execution_count": 3,
   "metadata": {
    "ExecuteTime": {
     "end_time": "2022-12-17T18:14:13.567683Z",
     "start_time": "2022-12-17T18:14:13.551690Z"
    },
    "scrolled": true
   },
   "outputs": [
    {
     "data": {
      "text/html": [
       "<div>\n",
       "<style scoped>\n",
       "    .dataframe tbody tr th:only-of-type {\n",
       "        vertical-align: middle;\n",
       "    }\n",
       "\n",
       "    .dataframe tbody tr th {\n",
       "        vertical-align: top;\n",
       "    }\n",
       "\n",
       "    .dataframe thead th {\n",
       "        text-align: right;\n",
       "    }\n",
       "</style>\n",
       "<table border=\"1\" class=\"dataframe\">\n",
       "  <thead>\n",
       "    <tr style=\"text-align: right;\">\n",
       "      <th></th>\n",
       "      <th>Players</th>\n",
       "      <th>Outside national squad</th>\n",
       "      <th>Lower tier players</th>\n",
       "    </tr>\n",
       "    <tr>\n",
       "      <th>Country</th>\n",
       "      <th></th>\n",
       "      <th></th>\n",
       "      <th></th>\n",
       "    </tr>\n",
       "  </thead>\n",
       "  <tbody>\n",
       "    <tr>\n",
       "      <th>England</th>\n",
       "      <td>808</td>\n",
       "      <td>648</td>\n",
       "      <td>54</td>\n",
       "    </tr>\n",
       "    <tr>\n",
       "      <th>Germany</th>\n",
       "      <td>495</td>\n",
       "      <td>362</td>\n",
       "      <td>8</td>\n",
       "    </tr>\n",
       "    <tr>\n",
       "      <th>Spain</th>\n",
       "      <td>471</td>\n",
       "      <td>341</td>\n",
       "      <td>5</td>\n",
       "    </tr>\n",
       "    <tr>\n",
       "      <th>Italy</th>\n",
       "      <td>492</td>\n",
       "      <td>384</td>\n",
       "      <td>3</td>\n",
       "    </tr>\n",
       "    <tr>\n",
       "      <th>France</th>\n",
       "      <td>340</td>\n",
       "      <td>279</td>\n",
       "      <td>3</td>\n",
       "    </tr>\n",
       "    <tr>\n",
       "      <th>Saudi Arabia</th>\n",
       "      <td>135</td>\n",
       "      <td>21</td>\n",
       "      <td>2</td>\n",
       "    </tr>\n",
       "    <tr>\n",
       "      <th>Japan</th>\n",
       "      <td>90</td>\n",
       "      <td>23</td>\n",
       "      <td>2</td>\n",
       "    </tr>\n",
       "    <tr>\n",
       "      <th>South Korea</th>\n",
       "      <td>14</td>\n",
       "      <td>0</td>\n",
       "      <td>1</td>\n",
       "    </tr>\n",
       "    <tr>\n",
       "      <th>Denmark</th>\n",
       "      <td>8</td>\n",
       "      <td>6</td>\n",
       "      <td>1</td>\n",
       "    </tr>\n",
       "    <tr>\n",
       "      <th>Ecuador</th>\n",
       "      <td>4</td>\n",
       "      <td>0</td>\n",
       "      <td>1</td>\n",
       "    </tr>\n",
       "  </tbody>\n",
       "</table>\n",
       "</div>"
      ],
      "text/plain": [
       "              Players  Outside national squad  Lower tier players\n",
       "Country                                                          \n",
       "England           808                     648                  54\n",
       "Germany           495                     362                   8\n",
       "Spain             471                     341                   5\n",
       "Italy             492                     384                   3\n",
       "France            340                     279                   3\n",
       "Saudi Arabia      135                      21                   2\n",
       "Japan              90                      23                   2\n",
       "South Korea        14                       0                   1\n",
       "Denmark             8                       6                   1\n",
       "Ecuador             4                       0                   1"
      ]
     },
     "execution_count": 3,
     "metadata": {},
     "output_type": "execute_result"
    }
   ],
   "source": [
    "# countries that have people playing in their lower tiers and in the world cup\n",
    "countries_lower_tier_players = countries_df_groupby.sort_values('Lower tier players', ascending=False)[0:13]\n",
    "countries_lower_tier_players.head(10)"
   ]
  },
  {
   "cell_type": "markdown",
   "metadata": {},
   "source": [
    "## Outside national squad"
   ]
  },
  {
   "cell_type": "code",
   "execution_count": 4,
   "metadata": {
    "ExecuteTime": {
     "end_time": "2022-12-17T18:14:13.577064Z",
     "start_time": "2022-12-17T18:14:13.569886Z"
    }
   },
   "outputs": [
    {
     "data": {
      "text/html": [
       "<div>\n",
       "<style scoped>\n",
       "    .dataframe tbody tr th:only-of-type {\n",
       "        vertical-align: middle;\n",
       "    }\n",
       "\n",
       "    .dataframe tbody tr th {\n",
       "        vertical-align: top;\n",
       "    }\n",
       "\n",
       "    .dataframe thead th {\n",
       "        text-align: right;\n",
       "    }\n",
       "</style>\n",
       "<table border=\"1\" class=\"dataframe\">\n",
       "  <thead>\n",
       "    <tr style=\"text-align: right;\">\n",
       "      <th></th>\n",
       "      <th>Players</th>\n",
       "      <th>Outside national squad</th>\n",
       "      <th>Lower tier players</th>\n",
       "    </tr>\n",
       "    <tr>\n",
       "      <th>Country</th>\n",
       "      <th></th>\n",
       "      <th></th>\n",
       "      <th></th>\n",
       "    </tr>\n",
       "  </thead>\n",
       "  <tbody>\n",
       "    <tr>\n",
       "      <th>England</th>\n",
       "      <td>808</td>\n",
       "      <td>648</td>\n",
       "      <td>54</td>\n",
       "    </tr>\n",
       "    <tr>\n",
       "      <th>Italy</th>\n",
       "      <td>492</td>\n",
       "      <td>384</td>\n",
       "      <td>3</td>\n",
       "    </tr>\n",
       "    <tr>\n",
       "      <th>Germany</th>\n",
       "      <td>495</td>\n",
       "      <td>362</td>\n",
       "      <td>8</td>\n",
       "    </tr>\n",
       "    <tr>\n",
       "      <th>Spain</th>\n",
       "      <td>471</td>\n",
       "      <td>341</td>\n",
       "      <td>5</td>\n",
       "    </tr>\n",
       "    <tr>\n",
       "      <th>France</th>\n",
       "      <td>340</td>\n",
       "      <td>279</td>\n",
       "      <td>3</td>\n",
       "    </tr>\n",
       "    <tr>\n",
       "      <th>Turkey</th>\n",
       "      <td>67</td>\n",
       "      <td>67</td>\n",
       "      <td>0</td>\n",
       "    </tr>\n",
       "    <tr>\n",
       "      <th>Netherlands</th>\n",
       "      <td>121</td>\n",
       "      <td>66</td>\n",
       "      <td>0</td>\n",
       "    </tr>\n",
       "    <tr>\n",
       "      <th>Mexico</th>\n",
       "      <td>167</td>\n",
       "      <td>54</td>\n",
       "      <td>1</td>\n",
       "    </tr>\n",
       "    <tr>\n",
       "      <th>Portugal</th>\n",
       "      <td>83</td>\n",
       "      <td>49</td>\n",
       "      <td>0</td>\n",
       "    </tr>\n",
       "    <tr>\n",
       "      <th>United States</th>\n",
       "      <td>78</td>\n",
       "      <td>44</td>\n",
       "      <td>0</td>\n",
       "    </tr>\n",
       "  </tbody>\n",
       "</table>\n",
       "</div>"
      ],
      "text/plain": [
       "               Players  Outside national squad  Lower tier players\n",
       "Country                                                           \n",
       "England            808                     648                  54\n",
       "Italy              492                     384                   3\n",
       "Germany            495                     362                   8\n",
       "Spain              471                     341                   5\n",
       "France             340                     279                   3\n",
       "Turkey              67                      67                   0\n",
       "Netherlands        121                      66                   0\n",
       "Mexico             167                      54                   1\n",
       "Portugal            83                      49                   0\n",
       "United States       78                      44                   0"
      ]
     },
     "execution_count": 4,
     "metadata": {},
     "output_type": "execute_result"
    }
   ],
   "source": [
    "countries_df_outside_national_squad=countries_df_groupby.sort_values(by='Outside national squad', ascending=False)\n",
    "countries_df_outside_national_squad.head(10)"
   ]
  },
  {
   "cell_type": "markdown",
   "metadata": {},
   "source": [
    "### How many players outside national squad are in top 5 countries "
   ]
  },
  {
   "cell_type": "code",
   "execution_count": 22,
   "metadata": {
    "ExecuteTime": {
     "end_time": "2022-12-17T20:55:46.485607Z",
     "start_time": "2022-12-17T20:55:46.477842Z"
    }
   },
   "outputs": [
    {
     "data": {
      "text/plain": [
       "4.178423236514523"
      ]
     },
     "execution_count": 22,
     "metadata": {},
     "output_type": "execute_result"
    }
   ],
   "source": [
    "top_5_outside = countries_df_outside_national_squad.iloc[0:5]['Outside national squad'].sum()\n",
    "non_top_5_outside = countries_df_outside_national_squad.iloc[5:]['Outside national squad'].sum()\n",
    "top_5_outside / non_top_5_outside"
   ]
  },
  {
   "cell_type": "markdown",
   "metadata": {},
   "source": [
    "### Foreign to Home Ratio"
   ]
  },
  {
   "cell_type": "code",
   "execution_count": 5,
   "metadata": {
    "ExecuteTime": {
     "end_time": "2022-12-17T18:14:13.583521Z",
     "start_time": "2022-12-17T18:14:13.578889Z"
    }
   },
   "outputs": [],
   "source": [
    "countries_df_outside_national_squad['foreign_to_home_ratio'] = round(countries_df_outside_national_squad['Outside national squad'] /\\\n",
    "                                                                countries_df_outside_national_squad['Players'], 3)"
   ]
  },
  {
   "cell_type": "code",
   "execution_count": 6,
   "metadata": {
    "ExecuteTime": {
     "end_time": "2022-12-17T18:14:13.594711Z",
     "start_time": "2022-12-17T18:14:13.586400Z"
    }
   },
   "outputs": [
    {
     "data": {
      "text/html": [
       "<div>\n",
       "<style scoped>\n",
       "    .dataframe tbody tr th:only-of-type {\n",
       "        vertical-align: middle;\n",
       "    }\n",
       "\n",
       "    .dataframe tbody tr th {\n",
       "        vertical-align: top;\n",
       "    }\n",
       "\n",
       "    .dataframe thead th {\n",
       "        text-align: right;\n",
       "    }\n",
       "</style>\n",
       "<table border=\"1\" class=\"dataframe\">\n",
       "  <thead>\n",
       "    <tr style=\"text-align: right;\">\n",
       "      <th></th>\n",
       "      <th>Players</th>\n",
       "      <th>Outside national squad</th>\n",
       "      <th>Lower tier players</th>\n",
       "      <th>foreign_to_home_ratio</th>\n",
       "    </tr>\n",
       "    <tr>\n",
       "      <th>Country</th>\n",
       "      <th></th>\n",
       "      <th></th>\n",
       "      <th></th>\n",
       "      <th></th>\n",
       "    </tr>\n",
       "  </thead>\n",
       "  <tbody>\n",
       "    <tr>\n",
       "      <th>Colombia</th>\n",
       "      <td>1</td>\n",
       "      <td>1</td>\n",
       "      <td>0</td>\n",
       "      <td>1.000</td>\n",
       "    </tr>\n",
       "    <tr>\n",
       "      <th>United Arab Emirates</th>\n",
       "      <td>1</td>\n",
       "      <td>1</td>\n",
       "      <td>0</td>\n",
       "      <td>1.000</td>\n",
       "    </tr>\n",
       "    <tr>\n",
       "      <th>Austria</th>\n",
       "      <td>4</td>\n",
       "      <td>4</td>\n",
       "      <td>0</td>\n",
       "      <td>1.000</td>\n",
       "    </tr>\n",
       "    <tr>\n",
       "      <th>Egypt</th>\n",
       "      <td>2</td>\n",
       "      <td>2</td>\n",
       "      <td>0</td>\n",
       "      <td>1.000</td>\n",
       "    </tr>\n",
       "    <tr>\n",
       "      <th>Turkey</th>\n",
       "      <td>67</td>\n",
       "      <td>67</td>\n",
       "      <td>0</td>\n",
       "      <td>1.000</td>\n",
       "    </tr>\n",
       "    <tr>\n",
       "      <th>Cyprus</th>\n",
       "      <td>2</td>\n",
       "      <td>2</td>\n",
       "      <td>0</td>\n",
       "      <td>1.000</td>\n",
       "    </tr>\n",
       "    <tr>\n",
       "      <th>Hungary</th>\n",
       "      <td>1</td>\n",
       "      <td>1</td>\n",
       "      <td>0</td>\n",
       "      <td>1.000</td>\n",
       "    </tr>\n",
       "    <tr>\n",
       "      <th>Scotland</th>\n",
       "      <td>12</td>\n",
       "      <td>12</td>\n",
       "      <td>0</td>\n",
       "      <td>1.000</td>\n",
       "    </tr>\n",
       "    <tr>\n",
       "      <th>Kuwait</th>\n",
       "      <td>2</td>\n",
       "      <td>2</td>\n",
       "      <td>0</td>\n",
       "      <td>1.000</td>\n",
       "    </tr>\n",
       "    <tr>\n",
       "      <th>France</th>\n",
       "      <td>340</td>\n",
       "      <td>279</td>\n",
       "      <td>3</td>\n",
       "      <td>0.821</td>\n",
       "    </tr>\n",
       "  </tbody>\n",
       "</table>\n",
       "</div>"
      ],
      "text/plain": [
       "                      Players  Outside national squad  Lower tier players  \\\n",
       "Country                                                                     \n",
       "Colombia                    1                       1                   0   \n",
       "United Arab Emirates        1                       1                   0   \n",
       "Austria                     4                       4                   0   \n",
       "Egypt                       2                       2                   0   \n",
       "Turkey                     67                      67                   0   \n",
       "Cyprus                      2                       2                   0   \n",
       "Hungary                     1                       1                   0   \n",
       "Scotland                   12                      12                   0   \n",
       "Kuwait                      2                       2                   0   \n",
       "France                    340                     279                   3   \n",
       "\n",
       "                      foreign_to_home_ratio  \n",
       "Country                                      \n",
       "Colombia                              1.000  \n",
       "United Arab Emirates                  1.000  \n",
       "Austria                               1.000  \n",
       "Egypt                                 1.000  \n",
       "Turkey                                1.000  \n",
       "Cyprus                                1.000  \n",
       "Hungary                               1.000  \n",
       "Scotland                              1.000  \n",
       "Kuwait                                1.000  \n",
       "France                                0.821  "
      ]
     },
     "execution_count": 6,
     "metadata": {},
     "output_type": "execute_result"
    }
   ],
   "source": [
    "countries_df_outside_national_squad.sort_values(by=\"foreign_to_home_ratio\", ascending=False).head(10)\n"
   ]
  },
  {
   "cell_type": "markdown",
   "metadata": {},
   "source": [
    "## Natural Breaks by Players"
   ]
  },
  {
   "cell_type": "code",
   "execution_count": 13,
   "metadata": {
    "ExecuteTime": {
     "end_time": "2022-12-17T19:16:57.794645Z",
     "start_time": "2022-12-17T19:16:57.777309Z"
    }
   },
   "outputs": [
    {
     "data": {
      "text/html": [
       "<div>\n",
       "<style scoped>\n",
       "    .dataframe tbody tr th:only-of-type {\n",
       "        vertical-align: middle;\n",
       "    }\n",
       "\n",
       "    .dataframe tbody tr th {\n",
       "        vertical-align: top;\n",
       "    }\n",
       "\n",
       "    .dataframe thead th {\n",
       "        text-align: right;\n",
       "    }\n",
       "</style>\n",
       "<table border=\"1\" class=\"dataframe\">\n",
       "  <thead>\n",
       "    <tr style=\"text-align: right;\">\n",
       "      <th></th>\n",
       "      <th>Players</th>\n",
       "      <th>Outside national squad</th>\n",
       "      <th>Lower tier players</th>\n",
       "      <th>cut_jenks_players</th>\n",
       "    </tr>\n",
       "    <tr>\n",
       "      <th>Country</th>\n",
       "      <th></th>\n",
       "      <th></th>\n",
       "      <th></th>\n",
       "      <th></th>\n",
       "    </tr>\n",
       "  </thead>\n",
       "  <tbody>\n",
       "    <tr>\n",
       "      <th>England</th>\n",
       "      <td>808</td>\n",
       "      <td>648</td>\n",
       "      <td>54</td>\n",
       "      <td>Superstar countries</td>\n",
       "    </tr>\n",
       "    <tr>\n",
       "      <th>Germany</th>\n",
       "      <td>495</td>\n",
       "      <td>362</td>\n",
       "      <td>8</td>\n",
       "      <td>Superstar countries</td>\n",
       "    </tr>\n",
       "    <tr>\n",
       "      <th>Italy</th>\n",
       "      <td>492</td>\n",
       "      <td>384</td>\n",
       "      <td>3</td>\n",
       "      <td>Superstar countries</td>\n",
       "    </tr>\n",
       "    <tr>\n",
       "      <th>Spain</th>\n",
       "      <td>471</td>\n",
       "      <td>341</td>\n",
       "      <td>5</td>\n",
       "      <td>Superstar countries</td>\n",
       "    </tr>\n",
       "    <tr>\n",
       "      <th>France</th>\n",
       "      <td>340</td>\n",
       "      <td>279</td>\n",
       "      <td>3</td>\n",
       "      <td>Superstar countries</td>\n",
       "    </tr>\n",
       "    <tr>\n",
       "      <th>Mexico</th>\n",
       "      <td>167</td>\n",
       "      <td>54</td>\n",
       "      <td>1</td>\n",
       "      <td>Star countries</td>\n",
       "    </tr>\n",
       "    <tr>\n",
       "      <th>Saudi Arabia</th>\n",
       "      <td>135</td>\n",
       "      <td>21</td>\n",
       "      <td>2</td>\n",
       "      <td>Star countries</td>\n",
       "    </tr>\n",
       "    <tr>\n",
       "      <th>Netherlands</th>\n",
       "      <td>121</td>\n",
       "      <td>66</td>\n",
       "      <td>0</td>\n",
       "      <td>Star countries</td>\n",
       "    </tr>\n",
       "    <tr>\n",
       "      <th>Japan</th>\n",
       "      <td>90</td>\n",
       "      <td>23</td>\n",
       "      <td>2</td>\n",
       "      <td>Star countries</td>\n",
       "    </tr>\n",
       "    <tr>\n",
       "      <th>Portugal</th>\n",
       "      <td>83</td>\n",
       "      <td>49</td>\n",
       "      <td>0</td>\n",
       "      <td>Star countries</td>\n",
       "    </tr>\n",
       "    <tr>\n",
       "      <th>United States</th>\n",
       "      <td>78</td>\n",
       "      <td>44</td>\n",
       "      <td>0</td>\n",
       "      <td>Star countries</td>\n",
       "    </tr>\n",
       "    <tr>\n",
       "      <th>Russia</th>\n",
       "      <td>72</td>\n",
       "      <td>28</td>\n",
       "      <td>0</td>\n",
       "      <td>Star countries</td>\n",
       "    </tr>\n",
       "    <tr>\n",
       "      <th>Turkey</th>\n",
       "      <td>67</td>\n",
       "      <td>67</td>\n",
       "      <td>0</td>\n",
       "      <td>Star countries</td>\n",
       "    </tr>\n",
       "    <tr>\n",
       "      <th>Belgium</th>\n",
       "      <td>50</td>\n",
       "      <td>30</td>\n",
       "      <td>1</td>\n",
       "      <td>Star countries</td>\n",
       "    </tr>\n",
       "    <tr>\n",
       "      <th>Costa Rica</th>\n",
       "      <td>37</td>\n",
       "      <td>0</td>\n",
       "      <td>0</td>\n",
       "      <td>Star countries</td>\n",
       "    </tr>\n",
       "  </tbody>\n",
       "</table>\n",
       "</div>"
      ],
      "text/plain": [
       "               Players  Outside national squad  Lower tier players  \\\n",
       "Country                                                              \n",
       "England            808                     648                  54   \n",
       "Germany            495                     362                   8   \n",
       "Italy              492                     384                   3   \n",
       "Spain              471                     341                   5   \n",
       "France             340                     279                   3   \n",
       "Mexico             167                      54                   1   \n",
       "Saudi Arabia       135                      21                   2   \n",
       "Netherlands        121                      66                   0   \n",
       "Japan               90                      23                   2   \n",
       "Portugal            83                      49                   0   \n",
       "United States       78                      44                   0   \n",
       "Russia              72                      28                   0   \n",
       "Turkey              67                      67                   0   \n",
       "Belgium             50                      30                   1   \n",
       "Costa Rica          37                       0                   0   \n",
       "\n",
       "                 cut_jenks_players  \n",
       "Country                             \n",
       "England        Superstar countries  \n",
       "Germany        Superstar countries  \n",
       "Italy          Superstar countries  \n",
       "Spain          Superstar countries  \n",
       "France         Superstar countries  \n",
       "Mexico              Star countries  \n",
       "Saudi Arabia        Star countries  \n",
       "Netherlands         Star countries  \n",
       "Japan               Star countries  \n",
       "Portugal            Star countries  \n",
       "United States       Star countries  \n",
       "Russia              Star countries  \n",
       "Turkey              Star countries  \n",
       "Belgium             Star countries  \n",
       "Costa Rica          Star countries  "
      ]
     },
     "execution_count": 13,
     "metadata": {},
     "output_type": "execute_result"
    }
   ],
   "source": [
    "breaks = jenkspy.jenks_breaks(countries_df_groupby['Players'], nb_class=2)\n",
    "countries_df_groupby['cut_jenks_players'] = pd.cut(countries_df_groupby['Players'],\n",
    "                        bins=breaks,\n",
    "                        labels=['Star countries', 'Superstar countries'],\n",
    "                        include_lowest=True)\n",
    "countries_df_groupby.sort_values(['cut_jenks_players', 'Players'], ascending=False).head(15)"
   ]
  },
  {
   "cell_type": "markdown",
   "metadata": {},
   "source": [
    "## Ranking the countries (combined leagues)"
   ]
  },
  {
   "cell_type": "code",
   "execution_count": 169,
   "metadata": {
    "ExecuteTime": {
     "end_time": "2022-12-19T14:05:23.062730Z",
     "start_time": "2022-12-19T14:05:23.053285Z"
    }
   },
   "outputs": [],
   "source": [
    "# multiplied by a negative so we get the ranks in the correct order \n",
    "## adding one so that the positions are the rankings (first place gets 1 and not 0)\n",
    "Sorted_array_players = np.array(countries_df_groupby['Players']*-1).argsort() + 1\n",
    "Sorted_array_outside = np.array(countries_df_groupby['Outside national squad']*-1).argsort() + 1\n",
    "# Sorted_array_lower = np.array(countries_df_groupby['Lower tier players']*-1).argsort()"
   ]
  },
  {
   "cell_type": "code",
   "execution_count": 172,
   "metadata": {
    "ExecuteTime": {
     "end_time": "2022-12-19T14:06:17.251143Z",
     "start_time": "2022-12-19T14:06:17.243763Z"
    }
   },
   "outputs": [],
   "source": [
    "combined_sorted_array = Sorted_array_players + Sorted_array_outside\n",
    "countries_df_groupby['Combined_rank'] = combined_sorted_array"
   ]
  },
  {
   "cell_type": "code",
   "execution_count": 174,
   "metadata": {
    "ExecuteTime": {
     "end_time": "2022-12-19T14:22:12.646969Z",
     "start_time": "2022-12-19T14:22:12.636352Z"
    }
   },
   "outputs": [
    {
     "data": {
      "text/html": [
       "<div>\n",
       "<style scoped>\n",
       "    .dataframe tbody tr th:only-of-type {\n",
       "        vertical-align: middle;\n",
       "    }\n",
       "\n",
       "    .dataframe tbody tr th {\n",
       "        vertical-align: top;\n",
       "    }\n",
       "\n",
       "    .dataframe thead th {\n",
       "        text-align: right;\n",
       "    }\n",
       "</style>\n",
       "<table border=\"1\" class=\"dataframe\">\n",
       "  <thead>\n",
       "    <tr style=\"text-align: right;\">\n",
       "      <th></th>\n",
       "      <th>Players</th>\n",
       "      <th>Outside national squad</th>\n",
       "      <th>Combined_rank</th>\n",
       "    </tr>\n",
       "    <tr>\n",
       "      <th>Country</th>\n",
       "      <th></th>\n",
       "      <th></th>\n",
       "      <th></th>\n",
       "    </tr>\n",
       "  </thead>\n",
       "  <tbody>\n",
       "    <tr>\n",
       "      <th>England</th>\n",
       "      <td>808</td>\n",
       "      <td>648</td>\n",
       "      <td>2</td>\n",
       "    </tr>\n",
       "    <tr>\n",
       "      <th>Germany</th>\n",
       "      <td>495</td>\n",
       "      <td>362</td>\n",
       "      <td>5</td>\n",
       "    </tr>\n",
       "    <tr>\n",
       "      <th>Italy</th>\n",
       "      <td>492</td>\n",
       "      <td>384</td>\n",
       "      <td>5</td>\n",
       "    </tr>\n",
       "    <tr>\n",
       "      <th>Spain</th>\n",
       "      <td>471</td>\n",
       "      <td>341</td>\n",
       "      <td>8</td>\n",
       "    </tr>\n",
       "    <tr>\n",
       "      <th>France</th>\n",
       "      <td>340</td>\n",
       "      <td>279</td>\n",
       "      <td>10</td>\n",
       "    </tr>\n",
       "    <tr>\n",
       "      <th>Netherlands</th>\n",
       "      <td>121</td>\n",
       "      <td>66</td>\n",
       "      <td>14</td>\n",
       "    </tr>\n",
       "    <tr>\n",
       "      <th>Saudi Arabia</th>\n",
       "      <td>135</td>\n",
       "      <td>21</td>\n",
       "      <td>15</td>\n",
       "    </tr>\n",
       "    <tr>\n",
       "      <th>Mexico</th>\n",
       "      <td>167</td>\n",
       "      <td>54</td>\n",
       "      <td>19</td>\n",
       "    </tr>\n",
       "    <tr>\n",
       "      <th>Japan</th>\n",
       "      <td>90</td>\n",
       "      <td>23</td>\n",
       "      <td>19</td>\n",
       "    </tr>\n",
       "    <tr>\n",
       "      <th>Portugal</th>\n",
       "      <td>83</td>\n",
       "      <td>49</td>\n",
       "      <td>21</td>\n",
       "    </tr>\n",
       "  </tbody>\n",
       "</table>\n",
       "</div>"
      ],
      "text/plain": [
       "              Players  Outside national squad  Combined_rank\n",
       "Country                                                     \n",
       "England           808                     648              2\n",
       "Germany           495                     362              5\n",
       "Italy             492                     384              5\n",
       "Spain             471                     341              8\n",
       "France            340                     279             10\n",
       "Netherlands       121                      66             14\n",
       "Saudi Arabia      135                      21             15\n",
       "Mexico            167                      54             19\n",
       "Japan              90                      23             19\n",
       "Portugal           83                      49             21"
      ]
     },
     "execution_count": 174,
     "metadata": {},
     "output_type": "execute_result"
    }
   ],
   "source": [
    "countries_df_groupby.sort_values(by='Combined_rank')[['Players', 'Outside national squad', 'Combined_rank']][0:10]"
   ]
  },
  {
   "cell_type": "markdown",
   "metadata": {},
   "source": [
    "# Clubs "
   ]
  },
  {
   "cell_type": "markdown",
   "metadata": {},
   "source": [
    "## Clubs and country"
   ]
  },
  {
   "cell_type": "code",
   "execution_count": 116,
   "metadata": {
    "ExecuteTime": {
     "end_time": "2022-12-17T21:41:59.568953Z",
     "start_time": "2022-12-17T21:41:59.559504Z"
    }
   },
   "outputs": [
    {
     "data": {
      "text/html": [
       "<div>\n",
       "<style scoped>\n",
       "    .dataframe tbody tr th:only-of-type {\n",
       "        vertical-align: middle;\n",
       "    }\n",
       "\n",
       "    .dataframe tbody tr th {\n",
       "        vertical-align: top;\n",
       "    }\n",
       "\n",
       "    .dataframe thead th {\n",
       "        text-align: right;\n",
       "    }\n",
       "</style>\n",
       "<table border=\"1\" class=\"dataframe\">\n",
       "  <thead>\n",
       "    <tr style=\"text-align: right;\">\n",
       "      <th></th>\n",
       "      <th>Players_sent</th>\n",
       "      <th>Number_of_times_in_world_cup</th>\n",
       "      <th>cut_jenks</th>\n",
       "    </tr>\n",
       "    <tr>\n",
       "      <th>Country</th>\n",
       "      <th></th>\n",
       "      <th></th>\n",
       "      <th></th>\n",
       "    </tr>\n",
       "  </thead>\n",
       "  <tbody>\n",
       "    <tr>\n",
       "      <th>ENG</th>\n",
       "      <td>6</td>\n",
       "      <td>6</td>\n",
       "      <td>6</td>\n",
       "    </tr>\n",
       "    <tr>\n",
       "      <th>ESP</th>\n",
       "      <td>4</td>\n",
       "      <td>4</td>\n",
       "      <td>4</td>\n",
       "    </tr>\n",
       "    <tr>\n",
       "      <th>FRA</th>\n",
       "      <td>1</td>\n",
       "      <td>1</td>\n",
       "      <td>1</td>\n",
       "    </tr>\n",
       "    <tr>\n",
       "      <th>GER</th>\n",
       "      <td>2</td>\n",
       "      <td>2</td>\n",
       "      <td>2</td>\n",
       "    </tr>\n",
       "    <tr>\n",
       "      <th>ITA</th>\n",
       "      <td>2</td>\n",
       "      <td>2</td>\n",
       "      <td>2</td>\n",
       "    </tr>\n",
       "    <tr>\n",
       "      <th>KSA</th>\n",
       "      <td>1</td>\n",
       "      <td>1</td>\n",
       "      <td>1</td>\n",
       "    </tr>\n",
       "    <tr>\n",
       "      <th>NED</th>\n",
       "      <td>1</td>\n",
       "      <td>1</td>\n",
       "      <td>1</td>\n",
       "    </tr>\n",
       "    <tr>\n",
       "      <th>QAT</th>\n",
       "      <td>1</td>\n",
       "      <td>1</td>\n",
       "      <td>1</td>\n",
       "    </tr>\n",
       "  </tbody>\n",
       "</table>\n",
       "</div>"
      ],
      "text/plain": [
       "         Players_sent  Number_of_times_in_world_cup  cut_jenks\n",
       "Country                                                       \n",
       "ENG                 6                             6          6\n",
       "ESP                 4                             4          4\n",
       "FRA                 1                             1          1\n",
       "GER                 2                             2          2\n",
       "ITA                 2                             2          2\n",
       "KSA                 1                             1          1\n",
       "NED                 1                             1          1\n",
       "QAT                 1                             1          1"
      ]
     },
     "execution_count": 116,
     "metadata": {},
     "output_type": "execute_result"
    }
   ],
   "source": [
    "clubs_by_country_count_appearences"
   ]
  },
  {
   "cell_type": "code",
   "execution_count": 8,
   "metadata": {
    "ExecuteTime": {
     "end_time": "2022-12-17T18:14:13.621185Z",
     "start_time": "2022-12-17T18:14:13.613139Z"
    }
   },
   "outputs": [
    {
     "data": {
      "text/html": [
       "<div>\n",
       "<style scoped>\n",
       "    .dataframe tbody tr th:only-of-type {\n",
       "        vertical-align: middle;\n",
       "    }\n",
       "\n",
       "    .dataframe tbody tr th {\n",
       "        vertical-align: top;\n",
       "    }\n",
       "\n",
       "    .dataframe thead th {\n",
       "        text-align: right;\n",
       "    }\n",
       "</style>\n",
       "<table border=\"1\" class=\"dataframe\">\n",
       "  <thead>\n",
       "    <tr style=\"text-align: right;\">\n",
       "      <th></th>\n",
       "      <th>Players_sent</th>\n",
       "      <th>Number_of_times_in_world_cup</th>\n",
       "      <th>cut_jenks</th>\n",
       "    </tr>\n",
       "    <tr>\n",
       "      <th>Country</th>\n",
       "      <th></th>\n",
       "      <th></th>\n",
       "      <th></th>\n",
       "    </tr>\n",
       "  </thead>\n",
       "  <tbody>\n",
       "    <tr>\n",
       "      <th>ENG</th>\n",
       "      <td>6</td>\n",
       "      <td>6</td>\n",
       "      <td>6</td>\n",
       "    </tr>\n",
       "    <tr>\n",
       "      <th>ESP</th>\n",
       "      <td>4</td>\n",
       "      <td>4</td>\n",
       "      <td>4</td>\n",
       "    </tr>\n",
       "    <tr>\n",
       "      <th>GER</th>\n",
       "      <td>2</td>\n",
       "      <td>2</td>\n",
       "      <td>2</td>\n",
       "    </tr>\n",
       "    <tr>\n",
       "      <th>ITA</th>\n",
       "      <td>2</td>\n",
       "      <td>2</td>\n",
       "      <td>2</td>\n",
       "    </tr>\n",
       "  </tbody>\n",
       "</table>\n",
       "</div>"
      ],
      "text/plain": [
       "         Players_sent  Number_of_times_in_world_cup  cut_jenks\n",
       "Country                                                       \n",
       "ENG                 6                             6          6\n",
       "ESP                 4                             4          4\n",
       "GER                 2                             2          2\n",
       "ITA                 2                             2          2"
      ]
     },
     "execution_count": 8,
     "metadata": {},
     "output_type": "execute_result"
    }
   ],
   "source": [
    "# england has sent 6 teams to the world cup with more than 10 players\n",
    "clubs_by_country_count_appearences[clubs_by_country_count_appearences['Players_sent'] > 1]"
   ]
  },
  {
   "cell_type": "markdown",
   "metadata": {},
   "source": [
    "## Clubs"
   ]
  },
  {
   "cell_type": "code",
   "execution_count": 9,
   "metadata": {
    "ExecuteTime": {
     "end_time": "2022-12-17T18:14:13.633063Z",
     "start_time": "2022-12-17T18:14:13.622886Z"
    },
    "scrolled": true
   },
   "outputs": [
    {
     "data": {
      "text/html": [
       "<div>\n",
       "<style scoped>\n",
       "    .dataframe tbody tr th:only-of-type {\n",
       "        vertical-align: middle;\n",
       "    }\n",
       "\n",
       "    .dataframe tbody tr th {\n",
       "        vertical-align: top;\n",
       "    }\n",
       "\n",
       "    .dataframe thead th {\n",
       "        text-align: right;\n",
       "    }\n",
       "</style>\n",
       "<table border=\"1\" class=\"dataframe\">\n",
       "  <thead>\n",
       "    <tr style=\"text-align: right;\">\n",
       "      <th></th>\n",
       "      <th>Players_sent</th>\n",
       "      <th>Number_of_times_in_world_cup</th>\n",
       "      <th>Country</th>\n",
       "      <th>cut_jenks</th>\n",
       "    </tr>\n",
       "  </thead>\n",
       "  <tbody>\n",
       "    <tr>\n",
       "      <th>Barcelona</th>\n",
       "      <td>44</td>\n",
       "      <td>3</td>\n",
       "      <td>ESP</td>\n",
       "      <td>Superstar clubs</td>\n",
       "    </tr>\n",
       "    <tr>\n",
       "      <th>Manchester City</th>\n",
       "      <td>42</td>\n",
       "      <td>3</td>\n",
       "      <td>ENG</td>\n",
       "      <td>Superstar clubs</td>\n",
       "    </tr>\n",
       "    <tr>\n",
       "      <th>Bayern Munich</th>\n",
       "      <td>41</td>\n",
       "      <td>3</td>\n",
       "      <td>GER</td>\n",
       "      <td>Superstar clubs</td>\n",
       "    </tr>\n",
       "    <tr>\n",
       "      <th>Real Madrid</th>\n",
       "      <td>40</td>\n",
       "      <td>3</td>\n",
       "      <td>ESP</td>\n",
       "      <td>Superstar clubs</td>\n",
       "    </tr>\n",
       "    <tr>\n",
       "      <th>Manchester United</th>\n",
       "      <td>39</td>\n",
       "      <td>3</td>\n",
       "      <td>ENG</td>\n",
       "      <td>Superstar clubs</td>\n",
       "    </tr>\n",
       "    <tr>\n",
       "      <th>Chelsea</th>\n",
       "      <td>35</td>\n",
       "      <td>3</td>\n",
       "      <td>ENG</td>\n",
       "      <td>Superstar clubs</td>\n",
       "    </tr>\n",
       "    <tr>\n",
       "      <th>Juventus</th>\n",
       "      <td>34</td>\n",
       "      <td>3</td>\n",
       "      <td>ITA</td>\n",
       "      <td>Superstar clubs</td>\n",
       "    </tr>\n",
       "    <tr>\n",
       "      <th>Paris Saint-Germain</th>\n",
       "      <td>33</td>\n",
       "      <td>3</td>\n",
       "      <td>FRA</td>\n",
       "      <td>Superstar clubs</td>\n",
       "    </tr>\n",
       "    <tr>\n",
       "      <th>Tottenham Hotspur</th>\n",
       "      <td>23</td>\n",
       "      <td>2</td>\n",
       "      <td>ENG</td>\n",
       "      <td>Star clubs</td>\n",
       "    </tr>\n",
       "    <tr>\n",
       "      <th>Arsenal</th>\n",
       "      <td>20</td>\n",
       "      <td>2</td>\n",
       "      <td>ENG</td>\n",
       "      <td>Star clubs</td>\n",
       "    </tr>\n",
       "    <tr>\n",
       "      <th>Al-Sadd</th>\n",
       "      <td>15</td>\n",
       "      <td>1</td>\n",
       "      <td>QAT</td>\n",
       "      <td>Star clubs</td>\n",
       "    </tr>\n",
       "    <tr>\n",
       "      <th>Al Hilal</th>\n",
       "      <td>12</td>\n",
       "      <td>1</td>\n",
       "      <td>KSA</td>\n",
       "      <td>Star clubs</td>\n",
       "    </tr>\n",
       "    <tr>\n",
       "      <th>Atlético Madrid</th>\n",
       "      <td>12</td>\n",
       "      <td>1</td>\n",
       "      <td>ESP</td>\n",
       "      <td>Star clubs</td>\n",
       "    </tr>\n",
       "    <tr>\n",
       "      <th>Napoli</th>\n",
       "      <td>12</td>\n",
       "      <td>1</td>\n",
       "      <td>ITA</td>\n",
       "      <td>Star clubs</td>\n",
       "    </tr>\n",
       "    <tr>\n",
       "      <th>Ajax</th>\n",
       "      <td>11</td>\n",
       "      <td>1</td>\n",
       "      <td>NED</td>\n",
       "      <td>Star clubs</td>\n",
       "    </tr>\n",
       "    <tr>\n",
       "      <th>Borussia Dortmund</th>\n",
       "      <td>11</td>\n",
       "      <td>1</td>\n",
       "      <td>GER</td>\n",
       "      <td>Star clubs</td>\n",
       "    </tr>\n",
       "    <tr>\n",
       "      <th>Sevilla</th>\n",
       "      <td>10</td>\n",
       "      <td>1</td>\n",
       "      <td>ESP</td>\n",
       "      <td>Star clubs</td>\n",
       "    </tr>\n",
       "    <tr>\n",
       "      <th>Liverpool</th>\n",
       "      <td>10</td>\n",
       "      <td>1</td>\n",
       "      <td>ENG</td>\n",
       "      <td>Star clubs</td>\n",
       "    </tr>\n",
       "  </tbody>\n",
       "</table>\n",
       "</div>"
      ],
      "text/plain": [
       "                     Players_sent  Number_of_times_in_world_cup Country  \\\n",
       "Barcelona                      44                             3     ESP   \n",
       "Manchester City                42                             3     ENG   \n",
       "Bayern Munich                  41                             3     GER   \n",
       "Real Madrid                    40                             3     ESP   \n",
       "Manchester United              39                             3     ENG   \n",
       "Chelsea                        35                             3     ENG   \n",
       "Juventus                       34                             3     ITA   \n",
       "Paris Saint-Germain            33                             3     FRA   \n",
       "Tottenham Hotspur              23                             2     ENG   \n",
       "Arsenal                        20                             2     ENG   \n",
       "Al-Sadd                        15                             1     QAT   \n",
       "Al Hilal                       12                             1     KSA   \n",
       "Atlético Madrid                12                             1     ESP   \n",
       "Napoli                         12                             1     ITA   \n",
       "Ajax                           11                             1     NED   \n",
       "Borussia Dortmund              11                             1     GER   \n",
       "Sevilla                        10                             1     ESP   \n",
       "Liverpool                      10                             1     ENG   \n",
       "\n",
       "                           cut_jenks  \n",
       "Barcelona            Superstar clubs  \n",
       "Manchester City      Superstar clubs  \n",
       "Bayern Munich        Superstar clubs  \n",
       "Real Madrid          Superstar clubs  \n",
       "Manchester United    Superstar clubs  \n",
       "Chelsea              Superstar clubs  \n",
       "Juventus             Superstar clubs  \n",
       "Paris Saint-Germain  Superstar clubs  \n",
       "Tottenham Hotspur         Star clubs  \n",
       "Arsenal                   Star clubs  \n",
       "Al-Sadd                   Star clubs  \n",
       "Al Hilal                  Star clubs  \n",
       "Atlético Madrid           Star clubs  \n",
       "Napoli                    Star clubs  \n",
       "Ajax                      Star clubs  \n",
       "Borussia Dortmund         Star clubs  \n",
       "Sevilla                   Star clubs  \n",
       "Liverpool                 Star clubs  "
      ]
     },
     "execution_count": 9,
     "metadata": {},
     "output_type": "execute_result"
    }
   ],
   "source": [
    "clubs_df.sort_values(by='Players_sent', ascending=False)"
   ]
  },
  {
   "cell_type": "code",
   "execution_count": 11,
   "metadata": {
    "ExecuteTime": {
     "end_time": "2022-12-17T18:14:26.540498Z",
     "start_time": "2022-12-17T18:14:26.527758Z"
    }
   },
   "outputs": [
    {
     "data": {
      "text/html": [
       "<div>\n",
       "<style scoped>\n",
       "    .dataframe tbody tr th:only-of-type {\n",
       "        vertical-align: middle;\n",
       "    }\n",
       "\n",
       "    .dataframe tbody tr th {\n",
       "        vertical-align: top;\n",
       "    }\n",
       "\n",
       "    .dataframe thead th {\n",
       "        text-align: right;\n",
       "    }\n",
       "</style>\n",
       "<table border=\"1\" class=\"dataframe\">\n",
       "  <thead>\n",
       "    <tr style=\"text-align: right;\">\n",
       "      <th></th>\n",
       "      <th>Players_sent</th>\n",
       "      <th>Number_of_times_in_world_cup</th>\n",
       "      <th>Country</th>\n",
       "      <th>cut_jenks</th>\n",
       "    </tr>\n",
       "  </thead>\n",
       "  <tbody>\n",
       "    <tr>\n",
       "      <th>Barcelona</th>\n",
       "      <td>44</td>\n",
       "      <td>3</td>\n",
       "      <td>ESP</td>\n",
       "      <td>Superstar clubs</td>\n",
       "    </tr>\n",
       "    <tr>\n",
       "      <th>Bayern Munich</th>\n",
       "      <td>41</td>\n",
       "      <td>3</td>\n",
       "      <td>GER</td>\n",
       "      <td>Superstar clubs</td>\n",
       "    </tr>\n",
       "    <tr>\n",
       "      <th>Manchester City</th>\n",
       "      <td>42</td>\n",
       "      <td>3</td>\n",
       "      <td>ENG</td>\n",
       "      <td>Superstar clubs</td>\n",
       "    </tr>\n",
       "    <tr>\n",
       "      <th>Manchester United</th>\n",
       "      <td>39</td>\n",
       "      <td>3</td>\n",
       "      <td>ENG</td>\n",
       "      <td>Superstar clubs</td>\n",
       "    </tr>\n",
       "    <tr>\n",
       "      <th>Real Madrid</th>\n",
       "      <td>40</td>\n",
       "      <td>3</td>\n",
       "      <td>ESP</td>\n",
       "      <td>Superstar clubs</td>\n",
       "    </tr>\n",
       "    <tr>\n",
       "      <th>Chelsea</th>\n",
       "      <td>35</td>\n",
       "      <td>3</td>\n",
       "      <td>ENG</td>\n",
       "      <td>Superstar clubs</td>\n",
       "    </tr>\n",
       "    <tr>\n",
       "      <th>Juventus</th>\n",
       "      <td>34</td>\n",
       "      <td>3</td>\n",
       "      <td>ITA</td>\n",
       "      <td>Superstar clubs</td>\n",
       "    </tr>\n",
       "    <tr>\n",
       "      <th>Paris Saint-Germain</th>\n",
       "      <td>33</td>\n",
       "      <td>3</td>\n",
       "      <td>FRA</td>\n",
       "      <td>Superstar clubs</td>\n",
       "    </tr>\n",
       "  </tbody>\n",
       "</table>\n",
       "</div>"
      ],
      "text/plain": [
       "                     Players_sent  Number_of_times_in_world_cup Country  \\\n",
       "Barcelona                      44                             3     ESP   \n",
       "Bayern Munich                  41                             3     GER   \n",
       "Manchester City                42                             3     ENG   \n",
       "Manchester United              39                             3     ENG   \n",
       "Real Madrid                    40                             3     ESP   \n",
       "Chelsea                        35                             3     ENG   \n",
       "Juventus                       34                             3     ITA   \n",
       "Paris Saint-Germain            33                             3     FRA   \n",
       "\n",
       "                           cut_jenks  \n",
       "Barcelona            Superstar clubs  \n",
       "Bayern Munich        Superstar clubs  \n",
       "Manchester City      Superstar clubs  \n",
       "Manchester United    Superstar clubs  \n",
       "Real Madrid          Superstar clubs  \n",
       "Chelsea              Superstar clubs  \n",
       "Juventus             Superstar clubs  \n",
       "Paris Saint-Germain  Superstar clubs  "
      ]
     },
     "execution_count": 11,
     "metadata": {},
     "output_type": "execute_result"
    }
   ],
   "source": [
    "clubs_df[clubs_df['cut_jenks'] == 'Superstar clubs']"
   ]
  }
 ],
 "metadata": {
  "kernelspec": {
   "display_name": "Python [conda env:learn-env] *",
   "language": "python",
   "name": "conda-env-learn-env-py"
  },
  "language_info": {
   "codemirror_mode": {
    "name": "ipython",
    "version": 3
   },
   "file_extension": ".py",
   "mimetype": "text/x-python",
   "name": "python",
   "nbconvert_exporter": "python",
   "pygments_lexer": "ipython3",
   "version": "3.6.9"
  },
  "toc": {
   "base_numbering": 1,
   "nav_menu": {},
   "number_sections": true,
   "sideBar": true,
   "skip_h1_title": false,
   "title_cell": "Table of Contents",
   "title_sidebar": "Contents",
   "toc_cell": false,
   "toc_position": {
    "height": "calc(100% - 180px)",
    "left": "10px",
    "top": "150px",
    "width": "422.1875px"
   },
   "toc_section_display": true,
   "toc_window_display": true
  },
  "varInspector": {
   "cols": {
    "lenName": 16,
    "lenType": 16,
    "lenVar": 40
   },
   "kernels_config": {
    "python": {
     "delete_cmd_postfix": "",
     "delete_cmd_prefix": "del ",
     "library": "var_list.py",
     "varRefreshCmd": "print(var_dic_list())"
    },
    "r": {
     "delete_cmd_postfix": ") ",
     "delete_cmd_prefix": "rm(",
     "library": "var_list.r",
     "varRefreshCmd": "cat(var_dic_list()) "
    }
   },
   "types_to_exclude": [
    "module",
    "function",
    "builtin_function_or_method",
    "instance",
    "_Feature"
   ],
   "window_display": false
  }
 },
 "nbformat": 4,
 "nbformat_minor": 2
}
